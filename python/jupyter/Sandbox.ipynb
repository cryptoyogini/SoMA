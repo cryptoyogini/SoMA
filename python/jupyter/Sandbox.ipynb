{
 "cells": [
  {
   "cell_type": "code",
   "execution_count": 2,
   "metadata": {},
   "outputs": [],
   "source": [
    "import os,sys\n",
    "sys.path.append(\"../lib\")\n",
    "from libsoma import *\n",
    "from libsomacli import *\n"
   ]
  },
  {
   "cell_type": "code",
   "execution_count": 3,
   "metadata": {
    "collapsed": true
   },
   "outputs": [],
   "source": [
    "dictin={\"name\":\"Arjun\",\"work\":\"hacker\",\"place\":\"Kosi\"}\n",
    "jsonout=json.dumps(dictin)\n",
    "s=SoMAPost(jsonout)\n"
   ]
  },
  {
   "cell_type": "code",
   "execution_count": 4,
   "metadata": {},
   "outputs": [
    {
     "name": "stdout",
     "output_type": "stream",
     "text": [
      "[u'work', u'place', u'name']\n",
      "hacker\n"
     ]
    }
   ],
   "source": [
    "print s.dictionary.keys()\n",
    "print s.attributes.work"
   ]
  },
  {
   "cell_type": "code",
   "execution_count": 5,
   "metadata": {
    "collapsed": true
   },
   "outputs": [],
   "source": [
    "import facebook\n",
    "f=open(\"/opt/somaaccesstoken\")\n",
    "gapitoken=f.read().strip()\n",
    "graph = facebook.GraphAPI(gapitoken)\n"
   ]
  },
  {
   "cell_type": "code",
   "execution_count": 6,
   "metadata": {
    "collapsed": true
   },
   "outputs": [],
   "source": [
    "resp=graph.get_object('me')"
   ]
  },
  {
   "cell_type": "code",
   "execution_count": 7,
   "metadata": {},
   "outputs": [
    {
     "name": "stdout",
     "output_type": "stream",
     "text": [
      "{u'name': u'Soma Community', u'id': u'1051370315005909'}\n"
     ]
    }
   ],
   "source": [
    "print resp"
   ]
  },
  {
   "cell_type": "code",
   "execution_count": null,
   "metadata": {
    "collapsed": true,
    "scrolled": true
   },
   "outputs": [],
   "source": []
  },
  {
   "cell_type": "code",
   "execution_count": 7,
   "metadata": {
    "collapsed": true
   },
   "outputs": [],
   "source": [
    " post_id=graph.put_object(parent_object='me', connection_name='feed',\n",
    "                  message='Really! Hello, world')"
   ]
  },
  {
   "cell_type": "code",
   "execution_count": 8,
   "metadata": {},
   "outputs": [
    {
     "name": "stdout",
     "output_type": "stream",
     "text": [
      "{u'id': u'1051370315005909_1051819898294284'}\n"
     ]
    }
   ],
   "source": [
    "print post_id"
   ]
  },
  {
   "cell_type": "code",
   "execution_count": 9,
   "metadata": {
    "collapsed": true
   },
   "outputs": [],
   "source": [
    "returnval=graph.put_like(object_id=post_id['id'])"
   ]
  },
  {
   "cell_type": "code",
   "execution_count": 10,
   "metadata": {
    "collapsed": true
   },
   "outputs": [],
   "source": [
    "returnval=graph.put_comment(object_id=post_id['id'], message='Great post...')"
   ]
  },
  {
   "cell_type": "code",
   "execution_count": 41,
   "metadata": {
    "collapsed": true
   },
   "outputs": [],
   "source": [
    "returnval=graph.get_object(id=\"me/feed\")"
   ]
  },
  {
   "cell_type": "code",
   "execution_count": 37,
   "metadata": {},
   "outputs": [
    {
     "name": "stdout",
     "output_type": "stream",
     "text": [
      "{u'paging': {u'cursors': {u'after': u'Q2c4U1pXNTBYM0YxWlhKNVgzTjBiM0o1WDJsa0R5UXhNRFV4TXpjd016RTFNREExT1RBNU9qRTNNVEEyT1RNMk5qazJOekUyT0RVMk5USVBER0ZA3YVY5emRHOXllVjlwWkE4aE1UQTFNVE0zTURNeE5UQXdOVGt3T1Y4eE1EVXhPVEl3TURZANE1qZAzBNalkzRHdSMGFXMWxCbG4wVGRZAQgZDZD', u'before': u'Q2c4U1pXNTBYM0YxWlhKNVgzTjBiM0o1WDJsa0R5UXhNRFV4TXpjd016RTFNREExT1RBNU9qYzNNakkwTkRNNU9UVTNNVFk1TVRjek9ESVBER0ZA3YVY5emRHOXllVjlwWkE4aE1UQTFNVE0zTURNeE5UQXdOVGt3T1Y4eE1EVXhPVEkyTkRBeE5qRTJPVFkzRHdSMGFXMWxCbG4wVXJ3QgZDZD'}, u'next': u'https://graph.facebook.com/v2.10/1051370315005909/feed?access_token=EAACks6sLulMBAOrZCFAEzUuKz4LABIoycCy3eITqizvFXMjtZCMhccZC4ZBqeqIzdGCcHMGBssyon5ebL6zP8XDZAICSFy5Tf3ZBhKMgUHduATR4JcPFH82Lb2cTsZBLKPmmR8P1qr0pIR7ZCGytIWTDufXkQM9tuTPun3b1iQ9PdwZDZD&limit=25&after=Q2c4U1pXNTBYM0YxWlhKNVgzTjBiM0o1WDJsa0R5UXhNRFV4TXpjd016RTFNREExT1RBNU9qRTNNVEEyT1RNMk5qazJOekUyT0RVMk5USVBER0ZA3YVY5emRHOXllVjlwWkE4aE1UQTFNVE0zTURNeE5UQXdOVGt3T1Y4eE1EVXhPVEl3TURZANE1qZAzBNalkzRHdSMGFXMWxCbG4wVGRZAQgZDZD'}, u'data': [{u'created_time': u'2017-10-28T09:49:48+0000', u'message': u'Tempt not a desperate man.\\n -- William Shakespeare, \"Romeo and Juliet\"', u'id': u'1051370315005909_1051926401616967'}, {u'created_time': u'2017-10-28T09:48:56+0000', u'message': u'You will have a long and boring life.', u'id': u'1051370315005909_1051926171616990'}, {u'created_time': u'2017-10-28T09:48:04+0000', u'message': u'For courage mounteth with occasion.\\n -- William Shakespeare, \"King John\"', u'id': u'1051370315005909_1051925964950344'}, {u'created_time': u'2017-10-28T09:47:10+0000', u'message': u'You will overcome the attacks of jealous associates.', u'id': u'1051370315005909_1051925754950365'}, {u'created_time': u'2017-10-28T09:46:18+0000', u'message': u'Q: How many psychiatrists does it take to change a light bulb?\\nA: Only one, but it takes a long time, and the light bulb has\\n to really want to change.', u'id': u'1051370315005909_1051925538283720'}, {u'created_time': u'2017-10-28T09:45:26+0000', u'message': u'When you are about to die, a wombat is better than no company at all.\\n -- Roger Zelazny, \"Doorways in the Sand\"', u'id': u'1051370315005909_1051925148283759'}, {u'created_time': u'2017-10-28T09:44:33+0000', u'message': u'Do what comes naturally.  Seethe and fume and throw a tantrum.', u'id': u'1051370315005909_1051924834950457'}, {u'created_time': u'2017-10-28T09:43:41+0000', u'message': u'Remark of Dr. Baldwin\\'s concerning upstarts: We don\\'t care to eat toadstools\\nthat think they are truffles.\\n -- Mark Twain, \"Pudd\\'nhead Wilson\\'s Calendar\"', u'id': u'1051370315005909_1051924498283824'}, {u'created_time': u'2017-10-28T09:42:49+0000', u'message': u'Rebellion lay in his way, and he found it.\\n -- William Shakespeare, \"Henry IV\"', u'id': u'1051370315005909_1051924188283855'}, {u'created_time': u'2017-10-28T09:41:56+0000', u'message': u'Is that really YOU that is reading this?', u'id': u'1051370315005909_1051923968283877'}, {u'created_time': u'2017-10-28T09:41:04+0000', u'message': u'When angry, count four; when very angry, swear.\\n -- Mark Twain, \"Pudd\\'nhead Wilson\\'s Calendar\"', u'id': u'1051370315005909_1051923758283898'}, {u'created_time': u'2017-10-28T09:40:12+0000', u'message': u'Q: What do you call a principal female opera singer whose high C\\n is lower than those of other principal female opera singers?\\nA: A deep C diva.', u'id': u'1051370315005909_1051923518283922'}, {u'created_time': u'2017-10-28T09:39:20+0000', u'message': u'Your business will assume vast proportions.', u'id': u'1051370315005909_1051923294950611'}, {u'created_time': u'2017-10-28T09:38:28+0000', u'message': u'Your ignorance cramps my conversation.', u'id': u'1051370315005909_1051922944950646'}, {u'created_time': u'2017-10-28T09:37:36+0000', u'message': u\"Writing is turning one's worst moments into money.\\n -- J.P. Donleavy\", u'id': u'1051370315005909_1051922764950664'}, {u'created_time': u'2017-10-28T09:36:43+0000', u'message': u'Slow day.  Practice crawling.', u'id': u'1051370315005909_1051922634950677'}, {u'created_time': u'2017-10-28T09:35:51+0000', u'message': u'Unless hours were cups of sack, and minutes capons, and clocks the tongues\\nof bawds, and dials the signs of leaping houses, and the blessed sun himself\\na fair, hot wench in flame-colored taffeta, I see no reason why thou shouldst\\nbe so superfluous to demand the time of the day.  I wasted time and now doth\\ntime waste me.\\n -- William Shakespeare', u'id': u'1051370315005909_1051922501617357'}, {u'created_time': u'2017-10-28T09:34:59+0000', u'message': u\"Knock, knock!\\n Who's there?\\nSam and Janet.\\n Sam and Janet who?\\nSam and Janet Evening...\", u'id': u'1051370315005909_1051922251617382'}, {u'created_time': u'2017-10-28T09:34:07+0000', u'message': u'Q: What do monsters eat?\\nA: Things.\\n\\nQ: What do monsters drink?\\nA: Coke.  (Because Things go better with Coke.)', u'id': u'1051370315005909_1051922101617397'}, {u'created_time': u'2017-10-28T09:33:15+0000', u'message': u'Your manuscript is both good and original, but the part that is good is not\\noriginal and the part that is original is not good.\\n -- Samuel Johnson', u'id': u'1051370315005909_1051921711617436'}, {u'created_time': u'2017-10-28T09:32:23+0000', u'message': u'You are sick, twisted and perverted.  I like that in a person.', u'id': u'1051370315005909_1051921351617472'}, {u'created_time': u'2017-10-28T09:31:30+0000', u'message': u\"Don't tell any big lies today.  Small ones can be just as effective.\", u'id': u'1051370315005909_1051920948284179'}, {u'created_time': u'2017-10-28T09:30:38+0000', u'message': u'You will give someone a piece of your mind, which you can ill afford.', u'id': u'1051370315005909_1051920641617543'}, {u'created_time': u'2017-10-28T09:29:46+0000', u'message': u'You are farsighted, a good planner, an ardent lover, and a faithful friend.', u'id': u'1051370315005909_1051920314950909'}, {u'created_time': u'2017-10-28T09:28:54+0000', u'message': u'You have the power to influence all with whom you come in contact.', u'id': u'1051370315005909_1051920068284267'}]}\n"
     ]
    }
   ],
   "source": [
    "print returnval"
   ]
  },
  {
   "cell_type": "code",
   "execution_count": 29,
   "metadata": {},
   "outputs": [
    {
     "name": "stdout",
     "output_type": "stream",
     "text": [
      "{u'created_time': u'2017-10-28T07:40:19+0000', u'story': u'Soma Community updated their profile picture.', u'id': u'1051370315005909_1051887064954234'}\n",
      "{u'created_time': u'2017-10-28T04:59:03+0000', u'message': u'Really! Hello, world', u'id': u'1051370315005909_1051819898294284'}\n",
      "{u'created_time': u'2017-10-28T04:55:13+0000', u'message': u'Hello, world', u'id': u'1051370315005909_1051818831627724'}\n",
      "{u'created_time': u'2017-10-27T14:05:01+0000', u'message': u'Hello, world', u'id': u'1051370315005909_1051470938329180'}\n"
     ]
    }
   ],
   "source": [
    "for val in returnval['data']:\n",
    "    print val"
   ]
  },
  {
   "cell_type": "code",
   "execution_count": null,
   "metadata": {
    "collapsed": true
   },
   "outputs": [],
   "source": [
    "for val in returnval['data']:\n",
    "    print graph.put_like(object_id=val['id'])"
   ]
  },
  {
   "cell_type": "code",
   "execution_count": null,
   "metadata": {},
   "outputs": [
    {
     "name": "stdout",
     "output_type": "stream",
     "text": [
      "Many enraged psychiatrists are inciting a weary butcher.  The butcher is\n",
      "weary and tired because he has cut meat and steak and lamb for hours and\n",
      "weeks.  He does not desire to chant about anything with raving psychiatrists,\n",
      "but he sings about his gingivectomist, he dreams about a single cosmologist,\n",
      "he thinks about his dog.  The dog is named Herbert.\n",
      "\t\t-- Racter, \"The Policeman's Beard is Half-Constructed\"\n",
      "{u'id': u'1051933118282962_1051935768282697'}\n",
      "Today is the tomorrow you worried about yesterday.\n",
      "{u'id': u'1051932508283023_1051935784949362'}\n",
      "You will have a long and unpleasant discussion with your supervisor.\n",
      "{u'id': u'1051931844949756_1051935798282694'}\n",
      "After your lover has gone you will still have PEANUT BUTTER!\n",
      "{u'id': u'1051931614949779_1051935818282692'}\n",
      "Q:\tWhy is Christmas just like a day at the office?\n",
      "A:\tYou do all of the work and the fat guy in the suit\n",
      "\tgets all the credit.\n",
      "{u'id': u'1051930971616510_1051935834949357'}\n",
      "The difference between a Miracle and a Fact is exactly the difference\n",
      "between a mermaid and a seal.\n",
      "\t\t-- Mark Twain\n",
      "{u'id': u'1051930858283188_1051935844949356'}\n",
      "Familiarity breeds contempt -- and children.\n",
      "\t\t-- Mark Twain\n",
      "{u'id': u'1051930561616551_1051935858282688'}\n",
      "Q:\tHow many IBM types does it take to change a light bulb?\n",
      "A:\tFifteen.  One to do it, and fourteen to write document number\n",
      "\tGC7500439-0001, Multitasking Incandescent Source System Facility,\n",
      "\tof which 10% of the pages state only \"This page intentionally\n",
      "\tleft blank\", and 20% of the definitions are of the form \"A:.....\n",
      "\tconsists of sequences of non-blank characters separated by blanks\".\n",
      "{u'id': u'1051930334949907_1051935874949353'}\n",
      "You should emulate your heros, but don't carry it too far.  Especially\n",
      "if they are dead.\n",
      "{u'id': u'1051930018283272_1051935898282684'}\n",
      "Just to have it is enough.\n",
      "{u'id': u'1051929804949960_1051935914949349'}\n",
      "Stay away from hurricanes for a while.\n",
      "{u'id': u'1051929564949984_1051935921616015'}\n",
      "Things past redress and now with me past care.\n",
      "\t\t-- William Shakespeare, \"Richard II\"\n",
      "{u'id': u'1051929334950007_1051935931616014'}\n",
      "Small things make base men proud.\n",
      "\t\t-- William Shakespeare, \"Henry VI\"\n",
      "{u'id': u'1051929168283357_1051935944949346'}\n",
      "You look tired.\n",
      "{u'id': u'1051928904950050_1051935961616011'}\n",
      "Many a writer seems to think he is never profound except when he can't\n",
      "understand his own meaning.\n",
      "\t\t-- George D. Prentice\n",
      "{u'id': u'1051928721616735_1051935971616010'}\n",
      "You will gain money by a fattening action.\n",
      "{u'id': u'1051928344950106_1051936001616007'}\n",
      "Steady movement is more important than speed, much of the time.  So long\n",
      "as there is a regular progression of stimuli to get your mental hooks\n",
      "into, there is room for lateral movement.  Once this begins, its rate is\n",
      "a matter of discretion.\n",
      "\t\t-- Corwin, Prince of Amber\n",
      "{u'id': u'1051928064950134_1051936021616005'}\n",
      "The man who sets out to carry a cat by its tail learns something that\n",
      "will always be useful and which never will grow dim or doubtful.\n",
      "\t\t-- Mark Twain\n",
      "{u'id': u'1051927728283501_1051936034949337'}\n",
      "Lord, what fools these mortals be!\n",
      "\t\t-- William Shakespeare, \"A Midsummer-Night's Dream\"\n",
      "{u'id': u'1051927514950189_1051936041616003'}\n",
      "You have the capacity to learn from mistakes.  You'll learn a lot today.\n",
      "{u'id': u'1051926401616967_1051936048282669'}\n",
      "You are fighting for survival in your own sweet and gentle way.\n",
      "{u'id': u'1051926171616990_1051936074949333'}\n",
      "You are magnetic in your bearing.\n",
      "{u'id': u'1051925964950344_1051936098282664'}\n",
      "You enjoy the company of other people.\n",
      "{u'id': u'1051925754950365_1051936148282659'}\n",
      "Many enraged psychiatrists are inciting a weary butcher.  The butcher is\n",
      "weary and tired because he has cut meat and steak and lamb for hours and\n",
      "weeks.  He does not desire to chant about anything with raving psychiatrists,\n",
      "but he sings about his gingivectomist, he dreams about a single cosmologist,\n",
      "he thinks about his dog.  The dog is named Herbert.\n",
      "\t\t-- Racter, \"The Policeman's Beard is Half-Constructed\"\n",
      "{u'id': u'1051925538283720_1051936228282651'}\n",
      "A visit to a fresh place will bring strange work.\n",
      "{u'id': u'1051925148283759_1051936248282649'}\n"
     ]
    }
   ],
   "source": [
    "import os\n",
    "for val in returnval['data']:\n",
    "    #print graph.put_like(object_id=val['id'])\n",
    "    comment=os.popen(\"fortune\").read().strip()\n",
    "    print comment\n",
    "    print graph.put_comment(object_id=val['id'],message=comment)\n",
    "    "
   ]
  },
  {
   "cell_type": "code",
   "execution_count": 14,
   "metadata": {},
   "outputs": [
    {
     "name": "stdout",
     "output_type": "stream",
     "text": [
      "You will step on the night soil of many countries.\n",
      "There is an old time toast which is golden for its beauty.\n",
      "\"When you ascend the hill of prosperity may you not meet a friend.\"\n",
      "\t\t-- Mark Twain\n",
      "There are three infallible ways of pleasing an author, and the three form a\n",
      "rising scale of compliment: 1, to tell him you have read one of his books; 2,\n",
      "to tell him you have read all of his books; 3, to ask him to let you read the\n",
      "manuscript of his forthcoming book.  No. 1 admits you to his respect; No. 2\n",
      "admits you to his admiration; No. 3 carries you clear into his heart.\n",
      "\t\t-- Mark Twain, \"Pudd'nhead Wilson's Calendar\"\n",
      "You will be reincarnated as a toad; and you will be much happier.\n",
      "He that breaks a thing to find out what it is has left the path of wisdom.\n",
      "\t\t-- J.R.R. Tolkien\n",
      "Someone whom you reject today, will reject you tomorrow.\n",
      "Go to a movie tonight.  Darkness becomes you.\n"
     ]
    },
    {
     "ename": "KeyboardInterrupt",
     "evalue": "",
     "output_type": "error",
     "traceback": [
      "\u001b[0;31m---------------------------------------------------------------------------\u001b[0m",
      "\u001b[0;31mKeyboardInterrupt\u001b[0m                         Traceback (most recent call last)",
      "\u001b[0;32m<ipython-input-14-7a5b170c0e3e>\u001b[0m in \u001b[0;36m<module>\u001b[0;34m()\u001b[0m\n\u001b[1;32m      7\u001b[0m     \u001b[0mpost_ids\u001b[0m\u001b[0;34m.\u001b[0m\u001b[0mappend\u001b[0m\u001b[0;34m(\u001b[0m\u001b[0mpost_id\u001b[0m\u001b[0;34m)\u001b[0m\u001b[0;34m\u001b[0m\u001b[0m\n\u001b[1;32m      8\u001b[0m     \u001b[0;32mif\u001b[0m \u001b[0mlen\u001b[0m\u001b[0;34m(\u001b[0m\u001b[0mpost_ids\u001b[0m\u001b[0;34m)\u001b[0m\u001b[0;34m<\u001b[0m\u001b[0;36m50\u001b[0m\u001b[0;34m:\u001b[0m\u001b[0;34m\u001b[0m\u001b[0m\n\u001b[0;32m----> 9\u001b[0;31m         \u001b[0mtime\u001b[0m\u001b[0;34m.\u001b[0m\u001b[0msleep\u001b[0m\u001b[0;34m(\u001b[0m\u001b[0;36m50\u001b[0m\u001b[0;34m)\u001b[0m\u001b[0;34m\u001b[0m\u001b[0m\n\u001b[0m\u001b[1;32m     10\u001b[0m     \u001b[0;32melse\u001b[0m\u001b[0;34m:\u001b[0m\u001b[0;34m\u001b[0m\u001b[0m\n\u001b[1;32m     11\u001b[0m         \u001b[0;32mbreak\u001b[0m\u001b[0;34m\u001b[0m\u001b[0m\n",
      "\u001b[0;31mKeyboardInterrupt\u001b[0m: "
     ]
    }
   ],
   "source": [
    "import time\n",
    "post_ids=[]\n",
    "while True:\n",
    "    post=os.popen(\"fortune\").read().strip()\n",
    "    print post\n",
    "    post_id=graph.put_object(parent_object='me', connection_name='feed', message=post)\n",
    "    post_ids.append(post_id)\n",
    "    if len(post_ids)<50:\n",
    "        time.sleep(50)\n",
    "    else:\n",
    "        break\n",
    "    "
   ]
  },
  {
   "cell_type": "code",
   "execution_count": 16,
   "metadata": {},
   "outputs": [
    {
     "ename": "GraphAPIError",
     "evalue": "(#279) Requires read_page_mailboxes permission to manage the object",
     "output_type": "error",
     "traceback": [
      "\u001b[0;31m---------------------------------------------------------------------------\u001b[0m",
      "\u001b[0;31mGraphAPIError\u001b[0m                             Traceback (most recent call last)",
      "\u001b[0;32m<ipython-input-16-d1cacb0fd09e>\u001b[0m in \u001b[0;36m<module>\u001b[0;34m()\u001b[0m\n\u001b[0;32m----> 1\u001b[0;31m \u001b[0mresp\u001b[0m\u001b[0;34m=\u001b[0m\u001b[0mgraph\u001b[0m\u001b[0;34m.\u001b[0m\u001b[0mget_connections\u001b[0m\u001b[0;34m(\u001b[0m\u001b[0mid\u001b[0m\u001b[0;34m=\u001b[0m\u001b[0;34m\"me\"\u001b[0m\u001b[0;34m,\u001b[0m\u001b[0mconnection_name\u001b[0m\u001b[0;34m=\u001b[0m\u001b[0;34m\"conversations\"\u001b[0m\u001b[0;34m)\u001b[0m\u001b[0;34m\u001b[0m\u001b[0m\n\u001b[0m",
      "\u001b[0;32m/usr/local/lib/python2.7/dist-packages/facebook/__init__.pyc\u001b[0m in \u001b[0;36mget_connections\u001b[0;34m(self, id, connection_name, **args)\u001b[0m\n\u001b[1;32m    117\u001b[0m         \u001b[0;34m\"\"\"Fetches the connections for given object.\"\"\"\u001b[0m\u001b[0;34m\u001b[0m\u001b[0m\n\u001b[1;32m    118\u001b[0m         return self.request(\n\u001b[0;32m--> 119\u001b[0;31m             \"%s/%s/%s\" % (self.version, id, connection_name), args)\n\u001b[0m\u001b[1;32m    120\u001b[0m \u001b[0;34m\u001b[0m\u001b[0m\n\u001b[1;32m    121\u001b[0m     \u001b[0;32mdef\u001b[0m \u001b[0mput_object\u001b[0m\u001b[0;34m(\u001b[0m\u001b[0mself\u001b[0m\u001b[0;34m,\u001b[0m \u001b[0mparent_object\u001b[0m\u001b[0;34m,\u001b[0m \u001b[0mconnection_name\u001b[0m\u001b[0;34m,\u001b[0m \u001b[0;34m**\u001b[0m\u001b[0mdata\u001b[0m\u001b[0;34m)\u001b[0m\u001b[0;34m:\u001b[0m\u001b[0;34m\u001b[0m\u001b[0m\n",
      "\u001b[0;32m/usr/local/lib/python2.7/dist-packages/facebook/__init__.pyc\u001b[0m in \u001b[0;36mrequest\u001b[0;34m(self, path, args, post_args, files, method)\u001b[0m\n\u001b[1;32m    270\u001b[0m \u001b[0;34m\u001b[0m\u001b[0m\n\u001b[1;32m    271\u001b[0m         \u001b[0;32mif\u001b[0m \u001b[0mresult\u001b[0m \u001b[0;32mand\u001b[0m \u001b[0misinstance\u001b[0m\u001b[0;34m(\u001b[0m\u001b[0mresult\u001b[0m\u001b[0;34m,\u001b[0m \u001b[0mdict\u001b[0m\u001b[0;34m)\u001b[0m \u001b[0;32mand\u001b[0m \u001b[0mresult\u001b[0m\u001b[0;34m.\u001b[0m\u001b[0mget\u001b[0m\u001b[0;34m(\u001b[0m\u001b[0;34m\"error\"\u001b[0m\u001b[0;34m)\u001b[0m\u001b[0;34m:\u001b[0m\u001b[0;34m\u001b[0m\u001b[0m\n\u001b[0;32m--> 272\u001b[0;31m             \u001b[0;32mraise\u001b[0m \u001b[0mGraphAPIError\u001b[0m\u001b[0;34m(\u001b[0m\u001b[0mresult\u001b[0m\u001b[0;34m)\u001b[0m\u001b[0;34m\u001b[0m\u001b[0m\n\u001b[0m\u001b[1;32m    273\u001b[0m         \u001b[0;32mreturn\u001b[0m \u001b[0mresult\u001b[0m\u001b[0;34m\u001b[0m\u001b[0m\n\u001b[1;32m    274\u001b[0m \u001b[0;34m\u001b[0m\u001b[0m\n",
      "\u001b[0;31mGraphAPIError\u001b[0m: (#279) Requires read_page_mailboxes permission to manage the object"
     ]
    }
   ],
   "source": [
    "resp=graph.get_connections(id=\"me\",connection_name=\"conversations\")"
   ]
  },
  {
   "cell_type": "code",
   "execution_count": 17,
   "metadata": {},
   "outputs": [
    {
     "name": "stdout",
     "output_type": "stream",
     "text": [
      "{u'paging': {u'cursors': {u'after': u'MTAxNTQ3MzI2ODk3OTY1MjkZD', u'before': u'MTAxNTQ3MzI2ODk3OTY1MjkZD'}}, u'data': [{u'perms': [u'ADMINISTER', u'EDIT_PROFILE', u'CREATE_CONTENT', u'MODERATE_CONTENT', u'CREATE_ADS', u'BASIC_ADMIN'], u'role': u'Admin', u'name': u'Arjun Venkatraman', u'id': u'10154732689796529'}]}\n"
     ]
    }
   ],
   "source": [
    "print resp"
   ]
  },
  {
   "cell_type": "code",
   "execution_count": 18,
   "metadata": {},
   "outputs": [
    {
     "ename": "AttributeError",
     "evalue": "'GraphAPI' object has no attribute 'search'",
     "output_type": "error",
     "traceback": [
      "\u001b[0;31m---------------------------------------------------------------------------\u001b[0m",
      "\u001b[0;31mAttributeError\u001b[0m                            Traceback (most recent call last)",
      "\u001b[0;32m<ipython-input-18-c6c4740f714a>\u001b[0m in \u001b[0;36m<module>\u001b[0;34m()\u001b[0m\n\u001b[0;32m----> 1\u001b[0;31m \u001b[0mresp\u001b[0m\u001b[0;34m=\u001b[0m\u001b[0mgraph\u001b[0m\u001b[0;34m.\u001b[0m\u001b[0msearch\u001b[0m\u001b[0;34m(\u001b[0m\u001b[0mtype\u001b[0m\u001b[0;34m=\u001b[0m\u001b[0;34m\"page\"\u001b[0m\u001b[0;34m,\u001b[0m\u001b[0mq\u001b[0m\u001b[0;34m=\u001b[0m\u001b[0;34m\"Mojolab\"\u001b[0m\u001b[0;34m)\u001b[0m\u001b[0;34m\u001b[0m\u001b[0m\n\u001b[0m",
      "\u001b[0;31mAttributeError\u001b[0m: 'GraphAPI' object has no attribute 'search'"
     ]
    }
   ],
   "source": [
    "resp=graph.search(type=\"page\",q=\"Mojolab\")"
   ]
  },
  {
   "cell_type": "code",
   "execution_count": 52,
   "metadata": {
    "collapsed": true
   },
   "outputs": [],
   "source": [
    " resp=graph.request(\"/search?q=Deepta&type=user&limit=100\")"
   ]
  },
  {
   "cell_type": "code",
   "execution_count": 50,
   "metadata": {},
   "outputs": [
    {
     "name": "stdout",
     "output_type": "stream",
     "text": [
      "[{u'name': u'Julia Zolotareva', u'id': u'1289454134516687'}, {u'name': u'Julia Zolotareva', u'id': u'139644000094024'}, {u'name': u'Julia Zolotareva', u'id': u'750320358510316'}, {u'name': u'Julia Zolotareva', u'id': u'2023701484527638'}, {u'name': u'Julia Zolotareva', u'id': u'2034369760179016'}, {u'name': u'Julia Zolotareva', u'id': u'310727106073297'}, {u'name': u'Julia Zolotareva', u'id': u'249878052206363'}, {u'name': u'Julia Zolotareva', u'id': u'240465009816981'}, {u'name': u'Julia Zolotareva', u'id': u'1663324410365149'}, {u'name': u'Julia Zolotareva', u'id': u'1481305728622206'}, {u'name': u'Julia Zolotareva', u'id': u'138131770244680'}, {u'name': u'Julia Zolotareva', u'id': u'1206586629441593'}, {u'name': u'Julia Zolotareva', u'id': u'1857923244518573'}, {u'name': u'Julia Zolotareva', u'id': u'451416888593355'}, {u'name': u'Julia Zolotareva', u'id': u'1419380214778490'}, {u'name': u'Julia Zolotareva', u'id': u'1595725293828119'}, {u'name': u'Julia Zolotareva', u'id': u'10211949789152342'}, {u'name': u'Julia Zolotareva', u'id': u'10210657544015356'}, {u'name': u'Julia Zolotareva', u'id': u'1509734872395500'}, {u'name': u'Julia Zolotareva', u'id': u'10212404787049500'}, {u'name': u'Julia Zolotareva', u'id': u'10210685191591515'}, {u'name': u'Julia Zolotareva', u'id': u'1693504827360586'}, {u'name': u'Julia Zolotareva', u'id': u'1826296694077315'}, {u'name': u'Julia  Zolotareva', u'id': u'1466332483457625'}, {u'name': u'Julia Zolotareva', u'id': u'488006291581476'}, {u'name': u'Julia Zolotareva', u'id': u'1308477939261329'}, {u'name': u'Julia  Zolotareva', u'id': u'1532960986798949'}, {u'name': u'Julia  Zolotareva', u'id': u'1232962206807980'}, {u'name': u'Julia  Zolotareva', u'id': u'1411896978922899'}, {u'name': u'Julia  Zolotareva', u'id': u'911092509046133'}, {u'name': u'Julia  Zolotareva', u'id': u'1477870218995085'}, {u'name': u'Julia Zolotareva', u'id': u'2023992801210140'}, {u'name': u'Julia Zolotareva', u'id': u'10212632570663713'}, {u'name': u'Julia  Zolotareva', u'id': u'1489951954445008'}, {u'name': u'Julia  Zolotareva', u'id': u'1345821938873218'}, {u'name': u'\\u042e\\u043b\\u0438\\u044f \\u0417\\u043e\\u043b\\u043e\\u0442\\u0430\\u0440\\u0451\\u0432\\u0430', u'id': u'1749610342015173'}, {u'name': u'\\u0417\\u043e\\u043b\\u043e\\u0442\\u0430\\u0440\\u0435\\u0432\\u0430 \\u042e\\u043b\\u0438\\u044f', u'id': u'2025358331029399'}, {u'name': u'\\u042e\\u043b\\u0438\\u044f \\u0417\\u043e\\u043b\\u043e\\u0442\\u0430\\u0440\\u0451\\u0432\\u0430', u'id': u'137161517037020'}, {u'name': u'\\u042e\\u043b\\u0438\\u044f \\u0417\\u043e\\u043b\\u043e\\u0442\\u0430\\u0440\\u0435\\u0432\\u0430', u'id': u'129580027801773'}, {u'name': u'\\u042e\\u043b\\u044f \\u0417\\u043e\\u043b\\u043e\\u0442\\u0430\\u0440\\u0451\\u0432\\u0430', u'id': u'487791224924505'}, {u'name': u'\\u042e\\u043b\\u0438\\u044f \\u0417\\u043e\\u043b\\u043e\\u0442\\u0430\\u0440\\u0435\\u0432\\u0430', u'id': u'2023497041263690'}, {u'name': u'\\u042e\\u043b\\u0438\\u044f \\u0417\\u043e\\u043b\\u043e\\u0442\\u0430\\u0440\\u0435\\u0432\\u0430', u'id': u'2073274082901420'}, {u'name': u'\\u042e\\u043b\\u0438\\u044f \\u0417\\u043e\\u043b\\u043e\\u0442\\u0430\\u0440\\u0435\\u0432\\u0430', u'id': u'529420450728768'}, {u'name': u'\\u042e\\u043b\\u044f \\u0417\\u043e\\u043b\\u043e\\u0442\\u0430\\u0440\\u0435\\u0432\\u0430', u'id': u'1917523255180033'}, {u'name': u'\\u042e\\u043b\\u0438\\u044f \\u0417\\u043e\\u043b\\u043e\\u0442\\u0430\\u0440\\u0435\\u0432\\u0430', u'id': u'1737081343260149'}, {u'name': u'\\u044e\\u043b\\u0438\\u044f \\u0437\\u043e\\u043b\\u043e\\u0442\\u0430\\u0440\\u0451\\u0432\\u0430', u'id': u'1472360519519995'}, {u'name': u'\\u042e\\u043b\\u0438\\u044f \\u0417\\u043e\\u043b\\u043e\\u0442\\u0430\\u0440\\u0451\\u0432\\u0430', u'id': u'164681084117184'}, {u'name': u'\\u042e\\u043b\\u0438\\u044f \\u0417\\u043e\\u043b\\u043e\\u0442\\u0430\\u0440\\u0451\\u0432\\u0430', u'id': u'500566206973791'}, {u'name': u'\\u042e\\u043b\\u0438\\u044f \\u0417\\u043e\\u043b\\u043e\\u0442\\u0430\\u0440\\u0435\\u0432\\u0430', u'id': u'502541336769444'}, {u'name': u'\\u042e\\u043b\\u0438\\u044f \\u0417\\u043e\\u043b\\u043e\\u0442\\u0430\\u0440\\u0451\\u0432\\u0430', u'id': u'1313693382075816'}, {u'name': u'\\u042e\\u043b\\u044f \\u0417\\u043e\\u043b\\u043e\\u0442\\u0430\\u0440\\u0435\\u0432\\u0430', u'id': u'167510377166078'}, {u'name': u'\\u042e\\u043b\\u0438\\u044f \\u0417\\u043e\\u043b\\u043e\\u0442\\u0430\\u0440\\u0435\\u0432\\u0430', u'id': u'498121547230241'}, {u'name': u'\\u042e\\u043b\\u0438\\u044f \\u0417\\u043e\\u043b\\u043e\\u0442\\u0430\\u0440\\u0435\\u0432\\u0430', u'id': u'1492667310769434'}, {u'name': u'\\u042e\\u043b\\u0438\\u044f \\u0417\\u043e\\u043b\\u043e\\u0442\\u0430\\u0440\\u0435\\u0432\\u0430', u'id': u'1951228881869424'}, {u'name': u'\\u042e\\u043b\\u0438\\u044f \\u0417\\u043e\\u043b\\u043e\\u0442\\u0430\\u0440\\u0435\\u0432\\u0430', u'id': u'140469849930248'}, {u'name': u'\\u042e\\u043b\\u0438\\u044f \\u0417\\u043e\\u043b\\u043e\\u0442\\u0430\\u0440\\u0435\\u0432\\u0430', u'id': u'707763386099840'}, {u'name': u'\\u042e\\u043b\\u0438\\u044f \\u0417\\u043e\\u043b\\u043e\\u0442\\u0430\\u0440\\u0451\\u0432\\u0430', u'id': u'295265110990245'}, {u'name': u'\\u042e\\u043b\\u0438\\u044f \\u0417\\u043e\\u043b\\u043e\\u0442\\u0430\\u0440\\u0435\\u0432\\u0430', u'id': u'174320936454273'}, {u'name': u'\\u042e\\u043b\\u0438\\u044f \\u0417\\u043e\\u043b\\u043e\\u0442\\u0430\\u0440\\u0435\\u0432\\u0430', u'id': u'188102011757847'}, {u'name': u'\\u042e\\u043b\\u0438\\u044f \\u0417\\u043e\\u043b\\u043e\\u0442\\u0430\\u0440\\u0435\\u0432\\u0430', u'id': u'141597426470390'}, {u'name': u'\\u042e\\u043b\\u0438\\u044f \\u0417\\u043e\\u043b\\u043e\\u0442\\u0430\\u0440\\u0435\\u0432\\u0430', u'id': u'1479646152122487'}, {u'name': u'\\u042e\\u043b\\u0438\\u044f \\u0417\\u043e\\u043b\\u043e\\u0442\\u0430\\u0440\\u0435\\u0432\\u0430', u'id': u'292534064588575'}, {u'name': u'\\u042e\\u043b\\u0438\\u044f \\u0417\\u043e\\u043b\\u043e\\u0442\\u0430\\u0440\\u0435\\u0432\\u0430', u'id': u'144443602969382'}, {u'name': u'\\u042e\\u043b\\u0438\\u044f \\u0417\\u043e\\u043b\\u043e\\u0442\\u0430\\u0440\\u0451\\u0432\\u0430', u'id': u'1357599151019470'}, {u'name': u'\\u042e\\u043b\\u044f \\u0417\\u043e\\u043b\\u043e\\u0442\\u0430\\u0440\\u0451\\u0432\\u0430', u'id': u'502851216743691'}, {u'name': u'\\u042e\\u043b\\u0438\\u044f \\u0417\\u043e\\u043b\\u043e\\u0442\\u0430\\u0440\\u0435\\u0432\\u0430', u'id': u'1480602225309301'}, {u'name': u'\\u042e\\u043b\\u0438\\u044f \\u0417\\u043e\\u043b\\u043e\\u0442\\u0430\\u0440\\u0451\\u0432\\u0430', u'id': u'379720339150853'}, {u'name': u'\\u042e\\u043b\\u0438\\u044f \\u0417\\u043e\\u043b\\u043e\\u0442\\u0430\\u0440\\u0451\\u0432\\u0430', u'id': u'1684065504999479'}, {u'name': u'\\u042e\\u043b\\u0438\\u044f \\u0417\\u043e\\u043b\\u043e\\u0442\\u0430\\u0440\\u0435\\u0432\\u0430', u'id': u'1523051141108516'}, {u'name': u'\\u042e\\u043b\\u0438\\u044f \\u0417\\u043e\\u043b\\u043e\\u0442\\u0430\\u0440\\u0451\\u0432\\u0430', u'id': u'1487151498035254'}, {u'name': u'\\u042e\\u043b\\u0438\\u044f \\u0417\\u043e\\u043b\\u043e\\u0442\\u0430\\u0440\\u0435\\u0432\\u0430', u'id': u'1516030625157886'}, {u'name': u'\\u044e\\u043b\\u0438\\u044f \\u0437\\u043e\\u043b\\u043e\\u0442\\u0430\\u0440\\u0451\\u0432\\u0430', u'id': u'1475210929221348'}, {u'name': u'\\u042e\\u043b\\u044f \\u0417\\u043e\\u043b\\u043e\\u0442\\u0430\\u0440\\u0451\\u0432\\u0430', u'id': u'1477489708952941'}, {u'name': u'\\u042e\\u043b\\u0438\\u044f \\u0417\\u043e\\u043b\\u043e\\u0442\\u0430\\u0440\\u0435\\u0432\\u0430', u'id': u'543692622652276'}, {u'name': u'\\u042e\\u043b\\u0438\\u044f \\u0417\\u043e\\u043b\\u0440\\u0442\\u0430\\u0440\\u0435\\u0432\\u0430', u'id': u'339756223101925'}, {u'name': u'\\u042e\\u043b\\u0438\\u044f \\u0417\\u043e\\u043b\\u043e\\u0442\\u0430\\u0440\\u0435\\u0432\\u0430', u'id': u'288076855013552'}, {u'name': u'\\u042e\\u043b\\u0438\\u044f \\u0417\\u043e\\u043b\\u043e\\u0442\\u0430\\u0440\\u0435\\u0432\\u0430', u'id': u'162920954293442'}, {u'name': u'\\u042e\\u043b\\u0438\\u044f \\u0417\\u043e\\u043b\\u043e\\u0442\\u0430\\u0440\\u0451\\u0432\\u0430', u'id': u'288526768305290'}, {u'name': u'\\u042e\\u043b\\u0438\\u044f \\u0417\\u043e\\u043b\\u043e\\u0442\\u0430\\u0440\\u0435\\u0432\\u0430', u'id': u'542755906071102'}, {u'name': u'\\u042e\\u043b\\u0438\\u044f \\u042f\\u0446\\u0438\\u043a\\u043e\\u0432\\u0430', u'id': u'1626441510739391'}, {u'name': u'\\u042e\\u043b\\u044f \\u0417\\u043e\\u043b\\u043e\\u0442\\u0430\\u0440\\u0435\\u0432\\u0430', u'id': u'10207972194181567'}, {u'name': u'\\u042e\\u043b\\u0438\\u044f \\u0417\\u043e\\u043b\\u043e\\u0442\\u0430\\u0440\\u0451\\u0432\\u0430', u'id': u'887864384719656'}, {u'name': u'\\u042e\\u043b\\u0438\\u044f \\u0425\\u043e\\u0434\\u0430\\u0440\\u0438\\u043d\\u0430', u'id': u'1330530920406272'}, {u'name': u'\\u042e\\u043b\\u0438\\u044f \\u0417\\u043e\\u043b\\u043e\\u0442\\u0430\\u0440\\u0451\\u0432\\u0430', u'id': u'1597699146964371'}, {u'name': u'\\u042e\\u043b\\u044f \\u0417\\u043e\\u043b\\u043e\\u0442\\u0430\\u0440\\u0435\\u0432\\u0430', u'id': u'387813931653361'}, {u'name': u'\\u042e\\u043b\\u0438\\u044f \\u0417\\u043e\\u043b\\u043e\\u0442\\u0430\\u0440\\u0451\\u0432\\u0430', u'id': u'363244107436949'}, {u'name': u'\\u042e\\u043b\\u0438\\u044f \\u0417\\u043e\\u043b\\u043e\\u0442\\u0430\\u0440\\u0435\\u0432\\u0430', u'id': u'1871931326453985'}, {u'name': u'\\u042e\\u043b\\u0438\\u044f \\u0417\\u043e\\u043b\\u043e\\u0442\\u0430\\u0440\\u0451\\u0432\\u0430', u'id': u'1502921486453515'}, {u'name': u'\\u042e\\u043b\\u0438\\u044f \\u0417\\u043e\\u043b\\u043e\\u0442\\u0430\\u0440\\u0435\\u0432\\u0430', u'id': u'1656636127744658'}, {u'name': u'\\u042e\\u043b\\u0438\\u044f \\u0417\\u043e\\u043b\\u043e\\u0442\\u0430\\u0440\\u0435\\u0432\\u0430', u'id': u'301310823687711'}, {u'name': u'\\u042e\\u043b\\u0438\\u044f \\u0417\\u043e\\u043b\\u043e\\u0442\\u0430\\u0440\\u0435\\u0432\\u0430', u'id': u'370286156755520'}, {u'name': u'\\u044e\\u043b\\u0438\\u044f \\u0437\\u043e\\u043b\\u043e\\u0442\\u0430\\u0440\\u0435\\u0432\\u0430', u'id': u'1486782021357851'}, {u'name': u'\\u042e\\u043b\\u0438\\u044f \\u0417\\u043e\\u043b\\u043e\\u0442\\u0430\\u0440\\u0435\\u0432\\u0430', u'id': u'365799827200054'}, {u'name': u'\\u042e\\u043b\\u0438\\u044f \\u0417\\u043e\\u043b\\u043e\\u0442\\u0430\\u0440\\u0435\\u0432\\u0430', u'id': u'1966638010278188'}, {u'name': u'\\u042e\\u043b\\u0438\\u044f \\u041e\\u043b\\u0435\\u0439\\u043d\\u0438\\u043a \\u0417\\u043e\\u043b\\u043e\\u0442\\u0430\\u0440\\u0451\\u0432\\u0430', u'id': u'1297169540387677'}, {u'name': u'\\u042e\\u043b\\u0438\\u044f \\u0417\\u043e\\u043b\\u043e\\u0442\\u0430\\u0440\\u0435\\u0432\\u0430', u'id': u'405234933227182'}, {u'name': u'\\u042e\\u043b\\u0438\\u044f \\u0417\\u043e\\u043b\\u043e\\u0442\\u0430\\u0440\\u0435\\u0432\\u0430', u'id': u'1645237242217659'}, {u'name': u'\\u042e\\u043b\\u0438\\u044f \\u0417\\u043e\\u043b\\u043e\\u0442\\u0430\\u0440\\u0435\\u0432\\u0430', u'id': u'1751550041545538'}, {u'name': u'\\u042e\\u043b\\u0438\\u044f \\u0417\\u043e\\u043b\\u043e\\u0442\\u0430\\u0440\\u0435\\u0432\\u0430', u'id': u'533087700361878'}]\n"
     ]
    }
   ],
   "source": [
    "print resp['data']"
   ]
  },
  {
   "cell_type": "code",
   "execution_count": 53,
   "metadata": {},
   "outputs": [
    {
     "name": "stdout",
     "output_type": "stream",
     "text": [
      "{u'picture': {u'data': {u'url': u'https://fb-s-d-a.akamaihd.net/h-ak-fbx/v/t1.0-1/p50x50/22221955_109572196465324_316399736881611292_n.jpg?oh=fd3a63437cde6c8eac6f1b8cdd48096d&oe=5AB02688&__gda__=1521006869_46ebe215632fe77b29f22a82b132a241', u'is_silhouette': False}}, u'link': u'https://www.facebook.com/app_scoped_user_id/134936807262196/', u'name': u'Deeptarif', u'id': u'134936807262196'}\n",
      "{u'picture': {u'data': {u'url': u'https://fb-s-d-a.akamaihd.net/h-ak-fbx/v/t1.0-1/c7.0.50.50/p50x50/22789181_1959772957611681_5677686917409393133_n.jpg?oh=b62893db3c8421044a04791e88e41191&oe=5A7648B9&__gda__=1520939986_d8b912e3d008d526375705395af6f301', u'is_silhouette': False}}, u'link': u'https://www.facebook.com/app_scoped_user_id/1960163097572667/', u'name': u'Deeptadeep Roy', u'id': u'1960163097572667'}\n",
      "{u'picture': {u'data': {u'url': u'https://fb-s-d-a.akamaihd.net/h-ak-fbx/v/t1.0-1/p50x50/22365150_1655992791089385_3310300768319534546_n.jpg?oh=4638ad704cc03d73cc1dcec17d253ab5&oe=5A6BDB95&__gda__=1517412813_f08e2d287fdb37e16d3a8ee35dfe19e9', u'is_silhouette': False}}, u'link': u'https://www.facebook.com/app_scoped_user_id/1680488988639765/', u'name': u'Deepta Arjun', u'id': u'1680488988639765'}\n",
      "{u'picture': {u'data': {u'url': u'https://fb-s-d-a.akamaihd.net/h-ak-fbx/v/t1.0-1/p50x50/22089391_349436438836657_8136608639249707915_n.jpg?oh=e7bc040d24a210c4857dbe05feb3f571&oe=5AA7E4AE&__gda__=1517023129_ca8df9f213d954fa80e34bec5acc5ba2', u'is_silhouette': False}}, u'link': u'https://www.facebook.com/app_scoped_user_id/360735997706701/', u'name': u'Deeptanu Biswas', u'id': u'360735997706701'}\n",
      "{u'picture': {u'data': {u'url': u'https://fb-s-a-a.akamaihd.net/h-ak-fbx/v/t1.0-1/c0.0.50.50/p50x50/22814190_119875295444723_6630023104646945832_n.jpg?oh=f9ccf4edd0fb592e86255e872499343a&oe=5A7A5A4E&__gda__=1521116759_5da6bbe6b78c37c35019a498ac8a6a4d', u'is_silhouette': False}}, u'link': u'https://www.facebook.com/app_scoped_user_id/120000458765540/', u'name': u'Maz Deepta Baguz', u'id': u'120000458765540'}\n",
      "{u'picture': {u'data': {u'url': u'https://fb-s-a-a.akamaihd.net/h-ak-fbx/v/t1.0-1/c0.0.50.50/p50x50/1391674_10151821528085980_1889559179_n.jpg?oh=ca29b3d9d1efde86e79fffa59b670406&oe=5A7D37BA&__gda__=1517182228_3ca3e18cb7a5594b36de3991e5e53213', u'is_silhouette': False}}, u'link': u'https://www.facebook.com/app_scoped_user_id/10155042482415980/', u'name': u'Deepta Nangia', u'id': u'10155042482415980'}\n",
      "{u'picture': {u'data': {u'url': u'https://fb-s-d-a.akamaihd.net/h-ak-fbx/v/t1.0-1/c90.210.540.540/s50x50/13716236_10202102090111185_2653477189772201473_n.jpg?oh=f18b35e42070dbb980452ebe838e0079&oe=5AAF3A9E&__gda__=1517917633_82b7a88101296d0a43bfaae76c4e80f0', u'is_silhouette': False}}, u'link': u'https://www.facebook.com/app_scoped_user_id/10204083691049970/', u'name': u'Deepta Soodaye', u'id': u'10204083691049970'}\n",
      "{u'picture': {u'data': {u'url': u'https://fb-s-d-a.akamaihd.net/h-ak-fbx/v/t1.0-1/c0.0.50.50/p50x50/20375705_1453866131373352_373061149787284222_n.jpg?oh=fb93148e7105fad96b677d682c867e8f&oe=5A6F9573&__gda__=1517491306_57f7a5a35f635ffbcc331d3d1e9c0779', u'is_silhouette': False}}, u'link': u'https://www.facebook.com/app_scoped_user_id/1536027496490548/', u'name': u'Tarika Deeptara Panchal', u'id': u'1536027496490548'}\n",
      "{u'picture': {u'data': {u'url': u'https://fb-s-d-a.akamaihd.net/h-ak-fbx/v/t1.0-1/p50x50/14344350_332838113718826_2360921667137345455_n.jpg?oh=23229a62b376f4fce10e89457c5e365a&oe=5A73CC2E&__gda__=1516870937_ceb0983073fec17d320439a9bba13f4f', u'is_silhouette': False}}, u'link': u'https://www.facebook.com/app_scoped_user_id/530298333972802/', u'name': u'Deepta Agnihotri', u'id': u'530298333972802'}\n",
      "{u'picture': {u'data': {u'url': u'https://fb-s-a-a.akamaihd.net/h-ak-fbx/v/t1.0-1/c15.0.50.50/p50x50/1379841_10150004552801901_469209496895221757_n.jpg?oh=b5a77c94ba1b6c649a3b051e9db58d61&oe=5A681333&__gda__=1516685912_1fe502b19f6e8cf98f8a706ad502bc54', u'is_silhouette': True}}, u'link': u'https://www.facebook.com/app_scoped_user_id/303198450195339/', u'name': u'Deepta Vaishnav', u'id': u'303198450195339'}\n",
      "{u'picture': {u'data': {u'url': u'https://fb-s-a-a.akamaihd.net/h-ak-fbx/v/t1.0-1/p50x50/21761451_1428786633855880_2333691289828343643_n.jpg?oh=b840897a5ca064d27370d121130ef628&oe=5A66D725&__gda__=1521500285_12080ea87e93a76cd2a6a8bd2cda1a72', u'is_silhouette': False}}, u'link': u'https://www.facebook.com/app_scoped_user_id/1459706614097215/', u'name': u'Jooly Deeptansu Kumar', u'id': u'1459706614097215'}\n",
      "{u'picture': {u'data': {u'url': u'https://fb-s-a-a.akamaihd.net/h-ak-fbx/v/t1.0-1/c15.0.50.50/p50x50/1379841_10150004552801901_469209496895221757_n.jpg?oh=b5a77c94ba1b6c649a3b051e9db58d61&oe=5A681333&__gda__=1516685912_1fe502b19f6e8cf98f8a706ad502bc54', u'is_silhouette': True}}, u'link': u'https://www.facebook.com/app_scoped_user_id/128717607831951/', u'name': u'Deepta Kp', u'id': u'128717607831951'}\n",
      "{u'picture': {u'data': {u'url': u'https://fb-s-d-a.akamaihd.net/h-ak-fbx/v/t1.0-1/p50x50/12814056_125986644460881_4429589866432749151_n.jpg?oh=3400f9e0e402e01f5785954261ddf3fc&oe=5AA9CD81&__gda__=1521446838_c61bcebd2d303e92b4db813f8ac55522', u'is_silhouette': False}}, u'link': u'https://www.facebook.com/app_scoped_user_id/503777890015086/', u'name': u'Deepta Barua', u'id': u'503777890015086'}\n",
      "{u'picture': {u'data': {u'url': u'https://fb-s-d-a.akamaihd.net/h-ak-fbx/v/t1.0-1/p50x50/20374404_1479461292097619_4268980642731535111_n.jpg?oh=daedee2dfc4b1ee52a7103e50c3372fe&oe=5AA65D5D&__gda__=1516947461_ed74e83c87088f228054cbfd774261a8', u'is_silhouette': False}}, u'link': u'https://www.facebook.com/app_scoped_user_id/1559791654064582/', u'name': u'Deepta Vijayakumar', u'id': u'1559791654064582'}\n",
      "{u'picture': {u'data': {u'url': u'https://fb-s-c-a.akamaihd.net/h-ak-fbx/v/t1.0-1/c0.8.50.50/p50x50/14064036_128741494239321_1317941928047375888_n.jpg?oh=6a3c67d23fe00b69bb1590f0fd06efef&oe=5AAB293C&__gda__=1516609317_594e78842f3ee779776582231cd0075f', u'is_silhouette': False}}, u'link': u'https://www.facebook.com/app_scoped_user_id/363834624063339/', u'name': u'Deepta Khushu', u'id': u'363834624063339'}\n",
      "{u'picture': {u'data': {u'url': u'https://fb-s-c-a.akamaihd.net/h-ak-fbx/v/t1.0-1/p50x50/21106565_106149883456797_7746804674239079665_n.jpg?oh=c0fcdce89ea2023c84cb637651b0eb24&oe=5A6AE579&__gda__=1517086798_2ce73e6e3bd3346d4db1cf7bb9001d0f', u'is_silhouette': False}}, u'link': u'https://www.facebook.com/app_scoped_user_id/153597322045386/', u'name': u'Deepta Lama', u'id': u'153597322045386'}\n",
      "{u'picture': {u'data': {u'url': u'https://fb-s-d-a.akamaihd.net/h-ak-fbx/v/t1.0-1/c0.8.50.50/p50x50/22730339_803883036458776_4630551486133870337_n.jpg?oh=05ae7e763259517325b2e1aae065e8d6&oe=5A622F15&__gda__=1517091084_ad65cdf9c074e0d059a34fc93855d8ed', u'is_silhouette': False}}, u'link': u'https://www.facebook.com/app_scoped_user_id/806087799571633/', u'name': u'Deepta Patel', u'id': u'806087799571633'}\n",
      "{u'picture': {u'data': {u'url': u'https://fb-s-a-a.akamaihd.net/h-ak-fbx/v/t1.0-1/p50x50/19225331_176786959524188_7883329871204902767_n.jpg?oh=ad4b9e1ac4b2a24716cec5f04ff19827&oe=5AAFAE9E&__gda__=1517431977_bc0650f82255c7c88c6fbbf9da35b9c2', u'is_silhouette': False}}, u'link': u'https://www.facebook.com/app_scoped_user_id/229860527550164/', u'name': u'Sapnasharma Deepta', u'id': u'229860527550164'}\n",
      "{u'picture': {u'data': {u'url': u'https://fb-s-c-a.akamaihd.net/h-ak-fbx/v/t1.0-1/c0.0.50.50/p50x50/17952429_101249093773957_8219754779723601468_n.jpg?oh=be4c92b97a6826771ce351aab76f5e5f&oe=5A6206A4&__gda__=1520968381_53cebfbff9e964defbbbd0f05f391c2c', u'is_silhouette': False}}, u'link': u'https://www.facebook.com/app_scoped_user_id/186787045220161/', u'name': u'Deepta Barua', u'id': u'186787045220161'}\n",
      "{u'picture': {u'data': {u'url': u'https://fb-s-d-a.akamaihd.net/h-ak-fbx/v/t1.0-1/p50x50/15055629_100962343723004_700330942973448498_n.jpg?oh=624eac0b189222bded46bad5f80f5634&oe=5AAE9514&__gda__=1517644681_9425855e128655c64572cf680ae39f8c', u'is_silhouette': False}}, u'link': u'https://www.facebook.com/app_scoped_user_id/300486607103909/', u'name': u'Deepak Gupta Deepta Gupta', u'id': u'300486607103909'}\n",
      "{u'picture': {u'data': {u'url': u'https://fb-s-b-a.akamaihd.net/h-ak-fbx/v/t1.0-1/c0.0.50.50/p50x50/14925433_1154350167993511_2059920094205674575_n.jpg?oh=de4cf419e53184fa514c767da68837c9&oe=5A67950C&__gda__=1517024615_742883ed22ae111f1905f346734fd428', u'is_silhouette': False}}, u'link': u'https://www.facebook.com/app_scoped_user_id/1507118326050025/', u'name': u'Deepta Sharma', u'id': u'1507118326050025'}\n"
     ]
    },
    {
     "name": "stdout",
     "output_type": "stream",
     "text": [
      "{u'picture': {u'data': {u'url': u'https://fb-s-a-a.akamaihd.net/h-ak-fbx/v/t1.0-1/p50x50/17952781_104019846830784_4884451016128930180_n.jpg?oh=9b0708a1f554c2c63afab8cc2df0f66e&oe=5AADE1E0&__gda__=1521163479_25e8a1fe936c10f55babcea2820a0b22', u'is_silhouette': False}}, u'link': u'https://www.facebook.com/app_scoped_user_id/183406178892150/', u'name': u'Deepta Barua', u'id': u'183406178892150'}\n",
      "{u'picture': {u'data': {u'url': u'https://fb-s-b-a.akamaihd.net/h-ak-fbx/v/t1.0-1/c170.50.621.621/s50x50/15987_104870586350976_771861929_n.jpg?oh=87f5b7d2ff8061c77fdb0f266da28011&oe=5A7A92F1&__gda__=1518016351_71cbae0e667e9a0397b7cf6466e5a09a', u'is_silhouette': False}}, u'link': u'https://www.facebook.com/app_scoped_user_id/875911685913525/', u'name': u'Barua Deepta', u'id': u'875911685913525'}\n",
      "{u'picture': {u'data': {u'url': u'https://fb-s-d-a.akamaihd.net/h-ak-fbx/v/t1.0-1/c41.41.517.517/s50x50/251419_112155152300707_1220942726_n.jpg?oh=5e03b8172f293a17ee90a5edc9c9d6ed&oe=5A6C807D&__gda__=1521199881_933a738b1f654b1284363e3487676f16', u'is_silhouette': False}}, u'link': u'https://www.facebook.com/app_scoped_user_id/795186167330932/', u'name': u'Deepta Manas', u'id': u'795186167330932'}\n",
      "{u'picture': {u'data': {u'url': u'https://fb-s-b-a.akamaihd.net/h-ak-fbx/v/t1.0-1/p50x50/19961188_101823570476412_4186681709580862975_n.jpg?oh=22a12379f0e482e8860b338fe3b31f06&oe=5A64D130&__gda__=1516709895_0b55752a0acdeeca1f1754af0a219a03', u'is_silhouette': False}}, u'link': u'https://www.facebook.com/app_scoped_user_id/132095234115912/', u'name': u'Deepta Barua', u'id': u'132095234115912'}\n",
      "{u'picture': {u'data': {u'url': u'https://fb-s-a-a.akamaihd.net/h-ak-fbx/v/t1.0-1/c15.0.50.50/p50x50/1379841_10150004552801901_469209496895221757_n.jpg?oh=b5a77c94ba1b6c649a3b051e9db58d61&oe=5A681333&__gda__=1516685912_1fe502b19f6e8cf98f8a706ad502bc54', u'is_silhouette': True}}, u'link': u'https://www.facebook.com/app_scoped_user_id/141891419872181/', u'name': u'Manisha Deepta', u'id': u'141891419872181'}\n",
      "{u'picture': {u'data': {u'url': u'https://fb-s-c-a.akamaihd.net/h-ak-fbx/v/t1.0-1/p50x50/17203078_131523894041366_8607271212988218926_n.jpg?oh=d36d327a80017026af8f262e9804e84d&oe=5AAF8597&__gda__=1516836256_20662b13bee4f123dd070934543f480f', u'is_silhouette': False}}, u'link': u'https://www.facebook.com/app_scoped_user_id/250407515486336/', u'name': u'Deepta Sarkar', u'id': u'250407515486336'}\n",
      "{u'picture': {u'data': {u'url': u'https://fb-s-d-a.akamaihd.net/h-ak-fbx/v/t1.0-1/c0.6.50.50/p50x50/20914631_114368252621311_4705096018578004277_n.jpg?oh=cb1e6ee9677a5e757026e91964a2c0ab&oe=5AA850A2&__gda__=1516722363_92a96e16e003d0471af20a62d61dead1', u'is_silhouette': False}}, u'link': u'https://www.facebook.com/app_scoped_user_id/138092273582242/', u'name': u'Swami Deeptanand Ji', u'id': u'138092273582242'}\n",
      "{u'picture': {u'data': {u'url': u'https://fb-s-a-a.akamaihd.net/h-ak-fbx/v/t1.0-1/p50x50/19748922_357855404632849_7382576438082383516_n.jpg?oh=ac649772c16ed1ea7ee2dd349aac1b26&oe=5AABD634&__gda__=1517025539_95a594f378987626d11a0f112244d4c6', u'is_silhouette': False}}, u'link': u'https://www.facebook.com/app_scoped_user_id/406734169744972/', u'name': u'Deepta Bhattacharya', u'id': u'406734169744972'}\n",
      "{u'picture': {u'data': {u'url': u'https://fb-s-b-a.akamaihd.net/h-ak-fbx/v/t1.0-1/c0.0.50.50/p50x50/10444558_1446190582301265_7997603616618275963_n.jpg?oh=adde71c05129a2a56db09f1e81b7c4d6&oe=5A78F557&__gda__=1521027388_66435802339dea6df44b367eed36ce8b', u'is_silhouette': False}}, u'link': u'https://www.facebook.com/app_scoped_user_id/1958317727755212/', u'name': u'Deepta Langthasa', u'id': u'1958317727755212'}\n",
      "{u'picture': {u'data': {u'url': u'https://fb-s-d-a.akamaihd.net/h-ak-fbx/v/t1.0-1/c0.0.50.50/p50x50/1465413_1375231592728358_2064064162_n.jpg?oh=69378d15d51102070649aac156f27de7&oe=5A76DA48&__gda__=1520837848_894a090a1f72cb3fa6064b8d75c57f7a', u'is_silhouette': False}}, u'link': u'https://www.facebook.com/app_scoped_user_id/1909706245947554/', u'name': u'Deepta Barua', u'id': u'1909706245947554'}\n",
      "{u'picture': {u'data': {u'url': u'https://fb-s-a-a.akamaihd.net/h-ak-fbx/v/t1.0-1/p50x50/1507948_1396058784036147_4123427346800598400_n.jpg?oh=917df69962b178d10ea6db2d85189a86&oe=5AAD0B85&__gda__=1517207986_a96afc6f899ad4bfcc2174c54751d7f1', u'is_silhouette': False}}, u'link': u'https://www.facebook.com/app_scoped_user_id/1725163644458991/', u'name': u'Deepta Biswas', u'id': u'1725163644458991'}\n",
      "{u'picture': {u'data': {u'url': u'https://fb-s-b-a.akamaihd.net/h-ak-fbx/v/t1.0-1/c0.13.50.50/p50x50/24955_103987946309985_5750105_n.jpg?oh=943731806898e29c3c87702e1687c2f5&oe=5AA91359&__gda__=1517375959_b25781057d50b64ffdfac9676d6651ee', u'is_silhouette': False}}, u'link': u'https://www.facebook.com/app_scoped_user_id/2230154173693341/', u'name': u'Dewa Deepta Uozi', u'id': u'2230154173693341'}\n",
      "{u'picture': {u'data': {u'url': u'https://fb-s-a-a.akamaihd.net/h-ak-fbx/v/t1.0-1/p50x50/19284_10203683660440167_7894575062798883431_n.jpg?oh=38a4ed5ef732b9e61d6cf9dd4e2db614&oe=5A741A86&__gda__=1521263643_eaa8c5155f7b26dbec68072d89af40eb', u'is_silhouette': False}}, u'link': u'https://www.facebook.com/app_scoped_user_id/10210539005819517/', u'name': u'Deepta Belagur', u'id': u'10210539005819517'}\n",
      "{u'picture': {u'data': {u'url': u'https://fb-s-b-a.akamaihd.net/h-ak-fbx/v/t1.0-1/c15.0.50.50/p50x50/10354686_10150004552801856_220367501106153455_n.jpg?oh=0498220bfacef58fe04df5f5c3bf0379&oe=5A75492F&__gda__=1517502980_f7edae8466549633aa165104731b3397', u'is_silhouette': True}}, u'link': u'https://www.facebook.com/app_scoped_user_id/1453530181434395/', u'name': u'Deepta Agarwal', u'id': u'1453530181434395'}\n",
      "{u'picture': {u'data': {u'url': u'https://fb-s-a-a.akamaihd.net/h-ak-fbx/v/t1.0-1/c22.22.269.269/s50x50/644725_374831475931790_105430317_n.jpg?oh=2fcf53977d9ab791c50c908781479c67&oe=5A7C7A89&__gda__=1520994855_90a3789a79bc6134a3cb8761e6d89c8d', u'is_silhouette': False}}, u'link': u'https://www.facebook.com/app_scoped_user_id/1483455358402724/', u'name': u'Deepta Banerjee', u'id': u'1483455358402724'}\n",
      "{u'picture': {u'data': {u'url': u'https://fb-s-c-a.akamaihd.net/h-ak-fbx/v/t1.0-1/p50x50/22851859_103245130444775_101977521935070634_n.jpg?oh=e09dd54fd02bd7eed3c897c6f2e9d983&oe=5A66A680&__gda__=1521353501_d315113b25a19f1843fa986d7d3b26f5', u'is_silhouette': False}}, u'link': u'https://www.facebook.com/app_scoped_user_id/107197733382848/', u'name': u'Deeptanshu Deeptanshu', u'id': u'107197733382848'}\n",
      "{u'picture': {u'data': {u'url': u'https://fb-s-a-a.akamaihd.net/h-ak-fbx/v/t1.0-1/p50x50/1517708_767230420018867_3046754030422384754_n.jpg?oh=d0a56bbd080d599c602b0be09511743e&oe=5A6F9908&__gda__=1521267605_063105c89abee0e8ad5df90b94f0c85d', u'is_silhouette': False}}, u'link': u'https://www.facebook.com/app_scoped_user_id/1646841585391075/', u'name': u'Rakesh Deepta', u'id': u'1646841585391075'}\n",
      "{u'picture': {u'data': {u'url': u'https://fb-s-a-a.akamaihd.net/h-ak-fbx/v/t1.0-1/p50x50/22815361_118118402286590_6272886764210817663_n.jpg?oh=1c5e1ef4ed9be480a9d05c0c20db7df8&oe=5A7147FB&__gda__=1516534988_c8e118d6ca90c37d56d487b92082e80b', u'is_silhouette': False}}, u'link': u'https://www.facebook.com/app_scoped_user_id/121029571995473/', u'name': u'Deeptanshu Kashyap', u'id': u'121029571995473'}\n",
      "{u'picture': {u'data': {u'url': u'https://fb-s-c-a.akamaihd.net/h-ak-fbx/v/t1.0-1/p50x50/16865051_621114661414615_8490211690069756121_n.jpg?oh=fbc8abd3a974922cab6560e0d6f7151d&oe=5AA77CAA&__gda__=1516793245_eabc0e1d0c03811db96c36789f11286e', u'is_silhouette': False}}, u'link': u'https://www.facebook.com/app_scoped_user_id/734084846784262/', u'name': u'Deepta Dibakar', u'id': u'734084846784262'}\n",
      "{u'picture': {u'data': {u'url': u'https://fb-s-d-a.akamaihd.net/h-ak-fbx/v/t1.0-1/c0.4.50.50/p50x50/26907_111164605568104_973814_n.jpg?oh=765cdcb52ba7bb0bc379cfdcdd74c1c1&oe=5A615E5B&__gda__=1517513349_636fc29857079d40e96b027ac168e942', u'is_silhouette': False}}, u'link': u'https://www.facebook.com/app_scoped_user_id/1889684247716122/', u'name': u'Deepta Gupta', u'id': u'1889684247716122'}\n",
      "{u'picture': {u'data': {u'url': u'https://fb-s-b-a.akamaihd.net/h-ak-fbx/v/t1.0-1/p50x50/15350671_107646506393499_918824355165152624_n.jpg?oh=9f4d9631cca7a214f01291d288bb02ec&oe=5A69596D&__gda__=1516951280_0e23e31217bcc201400e67ce0c5d7d36', u'is_silhouette': False}}, u'link': u'https://www.facebook.com/app_scoped_user_id/284751988682949/', u'name': u'Deepta Dasgupta', u'id': u'284751988682949'}\n"
     ]
    },
    {
     "name": "stdout",
     "output_type": "stream",
     "text": [
      "{u'picture': {u'data': {u'url': u'https://fb-s-c-a.akamaihd.net/h-ak-fbx/v/t1.0-1/p50x50/20294050_1974483802797460_791502439528329795_n.jpg?oh=6bd0699ab59ad03a43251c5c4349c250&oe=5AACE7B2&__gda__=1517363077_3fc3a1c4757f703a26ac617429486fc4', u'is_silhouette': False}}, u'link': u'https://www.facebook.com/app_scoped_user_id/2014915115420995/', u'name': u'Deepta Dawn', u'id': u'2014915115420995'}\n",
      "{u'picture': {u'data': {u'url': u'https://fb-s-a-a.akamaihd.net/h-ak-fbx/v/t1.0-1/p50x50/19657405_10203619533005379_6945784414427388313_n.jpg?oh=33dd0c18254d77bb38f3845012e281ce&oe=5A644F85&__gda__=1517944853_ca74a9a767c3e060ab35f15937629512', u'is_silhouette': False}}, u'link': u'https://www.facebook.com/app_scoped_user_id/10204065311149554/', u'name': u'Deeptanshu Singh', u'id': u'10204065311149554'}\n",
      "{u'picture': {u'data': {u'url': u'https://fb-s-a-a.akamaihd.net/h-ak-fbx/v/t1.0-1/p50x50/21271166_1476133869140887_5422227455630369906_n.jpg?oh=91f8429ecd0d5d8ede447c359c3b4f9d&oe=5AAB6FBE&__gda__=1517026022_33de5128f3d4304e9a683e549f09092b', u'is_silhouette': False}}, u'link': u'https://www.facebook.com/app_scoped_user_id/1524091037678503/', u'name': u'Rohith Deepta', u'id': u'1524091037678503'}\n",
      "{u'picture': {u'data': {u'url': u'https://fb-s-a-a.akamaihd.net/h-ak-fbx/v/t1.0-1/p50x50/18557259_224716531367222_5919345653873352510_n.jpg?oh=abd5575d359a40ab3f064d2e9db6002f&oe=5AA6F7E3&__gda__=1516408020_3d5b56710f657b772b260b56c90de733', u'is_silhouette': False}}, u'link': u'https://www.facebook.com/app_scoped_user_id/298220684016806/', u'name': u'Deeptanu Sharma', u'id': u'298220684016806'}\n",
      "{u'picture': {u'data': {u'url': u'https://fb-s-d-a.akamaihd.net/h-ak-fbx/v/t1.0-1/p50x50/17952718_10211537147651747_1811364344012639350_n.jpg?oh=fb48f6ae8d3081dfffb0c15dc5c6def7&oe=5AAE177A&__gda__=1517616618_5617586c5489df7becb2c375cdaa296a', u'is_silhouette': False}}, u'link': u'https://www.facebook.com/app_scoped_user_id/10213260838942952/', u'name': u'Deepta Puar', u'id': u'10213260838942952'}\n",
      "{u'picture': {u'data': {u'url': u'https://fb-s-a-a.akamaihd.net/h-ak-fbx/v/t1.0-1/c15.15.193.193/s50x50/207432_123561224455175_893378796_n.jpg?oh=4533118689e325022f5983d9e759aca1&oe=5A7D0470&__gda__=1518153950_cb1ce65b14d114feb712872d286c4b0d', u'is_silhouette': False}}, u'link': u'https://www.facebook.com/app_scoped_user_id/1211760952301858/', u'name': u'Deepta Sunny K', u'id': u'1211760952301858'}\n",
      "{u'picture': {u'data': {u'url': u'https://fb-s-b-a.akamaihd.net/h-ak-fbx/v/t1.0-1/p50x50/20915609_118538528804419_6519502627101527874_n.jpg?oh=554a91d0109848f4789c5694bd88a009&oe=5A6266AC&__gda__=1516650651_498c0ec3fc8cfa55d148a3082b35ed85', u'is_silhouette': False}}, u'link': u'https://www.facebook.com/app_scoped_user_id/132558884069050/', u'name': u'DeepTanshu Mahara', u'id': u'132558884069050'}\n",
      "{u'picture': {u'data': {u'url': u'https://fb-s-b-a.akamaihd.net/h-ak-fbx/v/t1.0-1/c8.0.50.50/p50x50/1499634_704834999535729_606563781_n.jpg?oh=1c10d9a966d04a1337ad8a6e3bc8b342&oe=5A6777F4&__gda__=1521247683_8cc040f36c595efdf09bbc24d9d53884', u'is_silhouette': False}}, u'link': u'https://www.facebook.com/app_scoped_user_id/1687229561296263/', u'name': u'Deepta Alluri', u'id': u'1687229561296263'}\n",
      "{u'picture': {u'data': {u'url': u'https://fb-s-c-a.akamaihd.net/h-ak-fbx/v/t1.0-1/p50x50/22228641_724458034429627_4423540869539649250_n.jpg?oh=625d2d1dbfdf30f26ca620fe2a92fd2d&oe=5A6BEA4E&__gda__=1516616825_a97ee8d2fe2d0906e7947288ab70e649', u'is_silhouette': False}}, u'link': u'https://www.facebook.com/app_scoped_user_id/734454253430005/', u'name': u'Deeptaa Raee', u'id': u'734454253430005'}\n",
      "{u'picture': {u'data': {u'url': u'https://fb-s-a-a.akamaihd.net/h-ak-fbx/v/t1.0-1/c15.0.50.50/p50x50/1379841_10150004552801901_469209496895221757_n.jpg?oh=b5a77c94ba1b6c649a3b051e9db58d61&oe=5A681333&__gda__=1516685912_1fe502b19f6e8cf98f8a706ad502bc54', u'is_silhouette': True}}, u'link': u'https://www.facebook.com/app_scoped_user_id/1750790471597609/', u'name': u'Deepta Prasad', u'id': u'1750790471597609'}\n",
      "{u'picture': {u'data': {u'url': u'https://fb-s-a-a.akamaihd.net/h-ak-fbx/v/t1.0-1/p50x50/22491602_129240811066921_526212218722339253_n.jpg?oh=0c1251826a6048e74671d54c454ccf10&oe=5AA7A373&__gda__=1521337582_a305435260eb60c4c30ce2b35bb1f9da', u'is_silhouette': False}}, u'link': u'https://www.facebook.com/app_scoped_user_id/131604300830572/', u'name': u'Deepta Aleandro', u'id': u'131604300830572'}\n",
      "{u'picture': {u'data': {u'url': u'https://fb-s-a-a.akamaihd.net/h-ak-fbx/v/t1.0-1/p50x50/13619928_593480440812751_3466400458429992843_n.jpg?oh=0ee18b151311e8aa889f708efe9be267&oe=5A6B0D5D&__gda__=1516969066_a63275c19dc5e835cabfed53ae9c08ef', u'is_silhouette': False}}, u'link': u'https://www.facebook.com/app_scoped_user_id/833731186787674/', u'name': u'Deepta Venkat', u'id': u'833731186787674'}\n",
      "{u'picture': {u'data': {u'url': u'https://fb-s-a-a.akamaihd.net/h-ak-fbx/v/t1.0-1/p50x50/22195780_1464079733682424_4293191597516779906_n.jpg?oh=874035ce7f105e65f4076b40e32a48c1&oe=5AAF5BEF&__gda__=1516492983_c192d8cf2f1521cb5aaa0f81a5c3dafa', u'is_silhouette': False}}, u'link': u'https://www.facebook.com/app_scoped_user_id/1485458514877879/', u'name': u'Deepta Neema', u'id': u'1485458514877879'}\n",
      "{u'picture': {u'data': {u'url': u'https://fb-s-c-a.akamaihd.net/h-ak-fbx/v/t1.0-1/p50x50/22281847_161856341062923_7225059676978172840_n.jpg?oh=20baef883d71e033de898864f75a3849&oe=5A624FAF&__gda__=1517039256_a07ba0dd0cf82177a7f295ffc6dda641', u'is_silhouette': False}}, u'link': u'https://www.facebook.com/app_scoped_user_id/167076297207594/', u'name': u'Su Deepta Kshetry', u'id': u'167076297207594'}\n",
      "{u'picture': {u'data': {u'url': u'https://fb-s-a-a.akamaihd.net/h-ak-fbx/v/t1.0-1/c0.1.50.50/p50x50/14642109_196428954128620_4282136091705041519_n.jpg?oh=52f374c0f343df55518666b52c1ff1ad&oe=5AA7F8B9&__gda__=1521198240_3e765e252fb18a3d3848beb9592ee7af', u'is_silhouette': False}}, u'link': u'https://www.facebook.com/app_scoped_user_id/373874409717406/', u'name': u'Deeptana Paul', u'id': u'373874409717406'}\n",
      "{u'picture': {u'data': {u'url': u'https://fb-s-b-a.akamaihd.net/h-ak-fbx/v/t1.0-1/c0.0.50.50/p50x50/15940797_1761102950882644_5924332925371853408_n.jpg?oh=e250380333a69ac0068ccb911c19a407&oe=5AAC7EBA&__gda__=1516320721_b670ad51923521210dfd42f8eea412f6', u'is_silhouette': False}}, u'link': u'https://www.facebook.com/app_scoped_user_id/1934144630245141/', u'name': u'Prajna Deepta Dwivedi', u'id': u'1934144630245141'}\n",
      "{u'picture': {u'data': {u'url': u'https://fb-s-d-a.akamaihd.net/h-ak-fbx/v/t1.0-1/c102.22.276.276/s50x50/422252_111668982293328_767590043_n.jpg?oh=0dfaff1e13cf60e921607e14dbef24ab&oe=5AAD5015&__gda__=1517168737_10a7b715f96ffec2a6f1c7b5de520240', u'is_silhouette': False}}, u'link': u'https://www.facebook.com/app_scoped_user_id/1365590180234529/', u'name': u'Deeptanshu Sharma', u'id': u'1365590180234529'}\n",
      "{u'picture': {u'data': {u'url': u'https://fb-s-b-a.akamaihd.net/h-ak-fbx/v/t1.0-1/c15.0.50.50/p50x50/10354686_10150004552801856_220367501106153455_n.jpg?oh=0498220bfacef58fe04df5f5c3bf0379&oe=5A75492F&__gda__=1517502980_f7edae8466549633aa165104731b3397', u'is_silhouette': True}}, u'link': u'https://www.facebook.com/app_scoped_user_id/155904771815199/', u'name': u'Deeptanshu Jain', u'id': u'155904771815199'}\n",
      "{u'picture': {u'data': {u'url': u'https://fb-s-d-a.akamaihd.net/h-ak-fbx/v/t1.0-1/p50x50/15078627_1866454026931963_7944839128293279327_n.jpg?oh=81a3791f5f7b95c30c303fd1815ea04e&oe=5AA60271&__gda__=1517125161_962849c0681cad22e2daab1402cac059', u'is_silhouette': False}}, u'link': u'https://www.facebook.com/app_scoped_user_id/2019247371652627/', u'name': u'Deepta Saha', u'id': u'2019247371652627'}\n",
      "{u'picture': {u'data': {u'url': u'https://fb-s-c-a.akamaihd.net/h-ak-fbx/v/t1.0-1/p50x50/12644681_1074242662596005_3360451019443534692_n.jpg?oh=b7183b9e6fce296175c7354e2d70b50d&oe=5A7D1DB5&__gda__=1521455597_683279d14c67ec48a381a6981e94d9ec', u'is_silhouette': False}}, u'link': u'https://www.facebook.com/app_scoped_user_id/1648125145207751/', u'name': u'Deepta Dhami', u'id': u'1648125145207751'}\n",
      "{u'picture': {u'data': {u'url': u'https://fb-s-c-a.akamaihd.net/h-ak-fbx/v/t1.0-1/p50x50/13906597_1861695647391600_7722864073125742369_n.jpg?oh=bc8f455af3d0e2f03bbc2869355fb1b4&oe=5AABE910&__gda__=1517078344_65bc34392c25e0f622b8600e4e63bd91', u'is_silhouette': False}}, u'link': u'https://www.facebook.com/app_scoped_user_id/2080230515538111/', u'name': u'Deepta Chand', u'id': u'2080230515538111'}\n"
     ]
    },
    {
     "name": "stdout",
     "output_type": "stream",
     "text": [
      "{u'picture': {u'data': {u'url': u'https://fb-s-c-a.akamaihd.net/h-ak-fbx/v/t1.0-1/c0.0.50.50/p50x50/14068188_577197225786277_6773977288397831762_n.jpg?oh=2a973c1c8c71e2e8d55a69dfda99f25e&oe=5A623478&__gda__=1516916321_586c70d1abcedead01da342688c94505', u'is_silhouette': False}}, u'link': u'https://www.facebook.com/app_scoped_user_id/785857621586902/', u'name': u'Deeptansh Birmahan', u'id': u'785857621586902'}\n",
      "{u'picture': {u'data': {u'url': u'https://fb-s-b-a.akamaihd.net/h-ak-fbx/v/t1.0-1/c15.0.50.50/p50x50/10354686_10150004552801856_220367501106153455_n.jpg?oh=0498220bfacef58fe04df5f5c3bf0379&oe=5A75492F&__gda__=1517502980_f7edae8466549633aa165104731b3397', u'is_silhouette': True}}, u'link': u'https://www.facebook.com/app_scoped_user_id/137390080242749/', u'name': u'Deeptanshu Tripathi', u'id': u'137390080242749'}\n",
      "{u'picture': {u'data': {u'url': u'https://fb-s-d-a.akamaihd.net/h-ak-fbx/v/t1.0-1/c90.210.540.540/s50x50/21462306_10210345483980149_4830280684610936289_n.jpg?oh=8aac0923101e292c0109864824c73da7&oe=5A767C9E&__gda__=1516560577_a65557fcd0930edbb7d2195a8835b016', u'is_silhouette': False}}, u'link': u'https://www.facebook.com/app_scoped_user_id/10210678012493154/', u'name': u'Margarita Deepta Kastania', u'id': u'10210678012493154'}\n",
      "{u'picture': {u'data': {u'url': u'https://fb-s-b-a.akamaihd.net/h-ak-fbx/v/t1.0-1/p50x50/13221458_10156905622940483_2105857895453611019_n.jpg?oh=e39fd16b32abe84a26ef05a99267a816&oe=5A7C7EDC&__gda__=1521301580_9a6855d6a81a9b841b690f7b9d355b6c', u'is_silhouette': False}}, u'link': u'https://www.facebook.com/app_scoped_user_id/10159507448705483/', u'name': u'Deepta Ragunath', u'id': u'10159507448705483'}\n",
      "{u'picture': {u'data': {u'url': u'https://fb-s-c-a.akamaihd.net/h-ak-fbx/v/t1.0-1/p50x50/22528329_1512434662125036_8113943519795386319_n.jpg?oh=dffb19908be6f9c234c670aee0acf6c6&oe=5AAB3D93&__gda__=1516471755_09e2b810f543c9880371966994ba5e00', u'is_silhouette': False}}, u'link': u'https://www.facebook.com/app_scoped_user_id/1521080711260431/', u'name': u'Deepta Siddapu', u'id': u'1521080711260431'}\n",
      "{u'picture': {u'data': {u'url': u'https://fb-s-d-a.akamaihd.net/h-ak-fbx/v/t1.0-1/p50x50/19437583_10213387154578391_451548419000680729_n.jpg?oh=63af4efc54d705847d550d78aa5c7efd&oe=5A7222B7&__gda__=1516513007_685572ddcb97142ebed5d9ef2e56d6bb', u'is_silhouette': False}}, u'link': u'https://www.facebook.com/app_scoped_user_id/10214536127221989/', u'name': u'Deepta Roy Chakraverti', u'id': u'10214536127221989'}\n",
      "{u'picture': {u'data': {u'url': u'https://fb-s-d-a.akamaihd.net/h-ak-fbx/v/t1.0-1/p50x50/18222662_370432683353829_5230713388752275847_n.jpg?oh=c7db09a99cb1b0cdccf1d3fe99c5baaf&oe=5AA55C38&__gda__=1517325071_ec7fa9a4ed88e914a3da3b4be2ffee75', u'is_silhouette': False}}, u'link': u'https://www.facebook.com/app_scoped_user_id/445855535811543/', u'name': u'Chetna Deeptanshu Thukral', u'id': u'445855535811543'}\n",
      "{u'picture': {u'data': {u'url': u'https://fb-s-d-a.akamaihd.net/h-ak-fbx/v/t1.0-1/p50x50/13241418_116840368734954_7418997245619562549_n.jpg?oh=6ad1671b5976fdce20c68d3cf0500dd5&oe=5A66D440&__gda__=1520833143_22360b5e3eee44b56bbb91024a464b95', u'is_silhouette': False}}, u'link': u'https://www.facebook.com/app_scoped_user_id/402352656850389/', u'name': u'Deeptan Laha', u'id': u'402352656850389'}\n",
      "{u'picture': {u'data': {u'url': u'https://fb-s-a-a.akamaihd.net/h-ak-fbx/v/t1.0-1/p50x50/22688395_1886680268028804_2508594612881751993_n.jpg?oh=3356d3f62c0bc45180a4105fd1bf561a&oe=5A6D733A&__gda__=1518136930_aabc31383454203e86a720538a5796a8', u'is_silhouette': False}}, u'link': u'https://www.facebook.com/app_scoped_user_id/1891819480848216/', u'name': u'Deepta Manohar', u'id': u'1891819480848216'}\n",
      "{u'picture': {u'data': {u'url': u'https://fb-s-c-a.akamaihd.net/h-ak-fbx/v/t1.0-1/p50x50/10550983_1596468710589261_5303009715560756171_n.jpg?oh=cfa9c9fb4f77fa29c451deb7f0a62657&oe=5A6C83F9&__gda__=1516469409_f29fc33d465f68efe123e00ee39592d6', u'is_silhouette': False}}, u'link': u'https://www.facebook.com/app_scoped_user_id/2037948169774644/', u'name': u'Deeptaruna Lakra', u'id': u'2037948169774644'}\n",
      "{u'picture': {u'data': {u'url': u'https://fb-s-c-a.akamaihd.net/h-ak-fbx/v/t1.0-1/p50x50/22894068_10210344489597151_8585194476109868820_n.jpg?oh=1347774ce40d01f31fa732c97b9e7731&oe=5A70E565&__gda__=1517806837_7eadd0cc12578bc0c83c7b78d4ce772d', u'is_silhouette': False}}, u'link': u'https://www.facebook.com/app_scoped_user_id/10210346251321193/', u'name': u'Deepak Deepta', u'id': u'10210346251321193'}\n",
      "{u'picture': {u'data': {u'url': u'https://fb-s-c-a.akamaihd.net/h-ak-fbx/v/t1.0-1/c8.0.50.50/p50x50/1908231_1374580959478849_1784643129_n.jpg?oh=98d35d4c685be18605f32a0b78c4a9ee&oe=5A680809&__gda__=1516638105_b5a8bb57a56e4b9baa6d887def7f512a', u'is_silhouette': False}}, u'link': u'https://www.facebook.com/app_scoped_user_id/1974258152844457/', u'name': u'Deeptanu Guin', u'id': u'1974258152844457'}\n",
      "{u'picture': {u'data': {u'url': u'https://fb-s-a-a.akamaihd.net/h-ak-fbx/v/t1.0-1/p50x50/19399298_10213199507965417_9002665900938434124_n.jpg?oh=f49293a2752dd9a0cb3b084037ba5ce8&oe=5A61D81A&__gda__=1517637258_99bd4638e4e89548551b756c3813c2d0', u'is_silhouette': False}}, u'link': u'https://www.facebook.com/app_scoped_user_id/10214365946125642/', u'name': u'Prottoy Deepta Kairy', u'id': u'10214365946125642'}\n",
      "{u'picture': {u'data': {u'url': u'https://fb-s-a-a.akamaihd.net/h-ak-fbx/v/t1.0-1/p50x50/21766785_10212865150176355_1319262276415775797_n.jpg?oh=eea3d5bdbad9cdeed364f70f0a54fac1&oe=5A6D2BD2&__gda__=1521440066_7980392d1a6552b672aed74c5937d880', u'is_silhouette': False}}, u'link': u'https://www.facebook.com/app_scoped_user_id/10213112177031872/', u'name': u'Deepta Daya', u'id': u'10213112177031872'}\n",
      "{u'picture': {u'data': {u'url': u'https://fb-s-d-a.akamaihd.net/h-ak-fbx/v/t1.0-1/c113.33.414.414/s50x50/564755_264872566958946_2106833778_n.jpg?oh=99ec27e72c829781b4e861b55b0ec611&oe=5A62C3C5&__gda__=1521490948_757896c0ae67663d9b61498ff482569f', u'is_silhouette': False}}, u'link': u'https://www.facebook.com/app_scoped_user_id/1430753500370841/', u'name': u'Deeptanshu Maity', u'id': u'1430753500370841'}\n",
      "{u'picture': {u'data': {u'url': u'https://fb-s-c-a.akamaihd.net/h-ak-fbx/v/t1.0-1/p50x50/22196411_2403937433163759_9133309042285011463_n.jpg?oh=de64a8c9bfd338ac7cddcb06fcea4e02&oe=5A671DD2&__gda__=1517785738_a1a877a9407f2e129c2add9e3db21418', u'is_silhouette': False}}, u'link': u'https://www.facebook.com/app_scoped_user_id/2417925355098300/', u'name': u'Vinti Mishra Deepta', u'id': u'2417925355098300'}\n",
      "{u'picture': {u'data': {u'url': u'https://fb-s-b-a.akamaihd.net/h-ak-fbx/v/t1.0-1/p50x50/15337374_375792579428749_6080493654778538378_n.jpg?oh=7485ee214721801285b0ec7250c56c68&oe=5A747644&__gda__=1521121907_d8d2e3335eba792246dce7d3de933d38', u'is_silhouette': False}}, u'link': u'https://www.facebook.com/app_scoped_user_id/532656833742322/', u'name': u'Deeptashree Saha', u'id': u'532656833742322'}\n",
      "{u'picture': {u'data': {u'url': u'https://fb-s-c-a.akamaihd.net/h-ak-fbx/v/t1.0-1/p50x50/21761739_154802938440694_9211634291328574628_n.jpg?oh=73d3d49b93a4893bf8168ff7ccd7c8b7&oe=5A664FF8&__gda__=1517097167_24c87b7f2f2d2adc312189c61e140e52', u'is_silhouette': False}}, u'link': u'https://www.facebook.com/app_scoped_user_id/163706507550337/', u'name': u'Deeptanshu Gorai', u'id': u'163706507550337'}\n",
      "{u'picture': {u'data': {u'url': u'https://fb-s-a-a.akamaihd.net/h-ak-fbx/v/t1.0-1/c0.0.50.50/p50x50/20621832_129781370966338_2801712012108664156_n.jpg?oh=06e1660faf0996936bf3f105ac02f1f6&oe=5A76F638&__gda__=1517294369_0c3612ddb97359881aee92b49d8703d2', u'is_silhouette': False}}, u'link': u'https://www.facebook.com/app_scoped_user_id/148987152379093/', u'name': u'Deeptam Ghosh', u'id': u'148987152379093'}\n",
      "{u'picture': {u'data': {u'url': u'https://fb-s-c-a.akamaihd.net/h-ak-fbx/v/t1.0-1/c0.0.50.50/p50x50/17523617_233950820405763_6452175010846074775_n.jpg?oh=168789b080c64068e69697e2026d72bc&oe=5AA91E62&__gda__=1516743291_8f6a2c62ebfa10f74abbd13f097fc4ad', u'is_silhouette': False}}, u'link': u'https://www.facebook.com/app_scoped_user_id/317839378683573/', u'name': u'Deeptam Ghosh', u'id': u'317839378683573'}\n",
      "{u'picture': {u'data': {u'url': u'https://fb-s-c-a.akamaihd.net/h-ak-fbx/v/t1.0-1/c47.19.241.241/s50x50/180656_101962003218056_1309714_n.jpg?oh=c6bffdc5a4f71e8cc0d308cd48f96ab7&oe=5AAA1848&__gda__=1517775376_b5855ded515b0338a652a1b4f6ea3220', u'is_silhouette': False}}, u'link': u'https://www.facebook.com/app_scoped_user_id/1509515959129313/', u'name': u'Skin Deep-tattoo', u'id': u'1509515959129313'}\n"
     ]
    },
    {
     "name": "stdout",
     "output_type": "stream",
     "text": [
      "{u'picture': {u'data': {u'url': u'https://fb-s-b-a.akamaihd.net/h-ak-fbx/v/t1.0-1/p50x50/19875468_1182591158551023_7204153011336372165_n.jpg?oh=2d9fc885144ead61ce8df734870c0a5f&oe=5A72D1D9&__gda__=1517455745_c1c7895047e8ef538bd3ee032d600325', u'is_silhouette': False}}, u'link': u'https://www.facebook.com/app_scoped_user_id/1253538474789624/', u'name': u'Deeptanjali Sahoo', u'id': u'1253538474789624'}\n",
      "{u'picture': {u'data': {u'url': u'https://fb-s-c-a.akamaihd.net/h-ak-fbx/v/t1.0-1/p50x50/21430336_120697798669222_6202241535013798002_n.jpg?oh=b96867ac78f04c32ddc7df3585116215&oe=5AA65CFE&__gda__=1517886153_d41ecba452859a86c0dc65d307f3d2a0', u'is_silhouette': False}}, u'link': u'https://www.facebook.com/app_scoped_user_id/152371432168525/', u'name': u'Deeptangshu Sarkat', u'id': u'152371432168525'}\n",
      "{u'picture': {u'data': {u'url': u'https://fb-s-c-a.akamaihd.net/h-ak-fbx/v/t1.0-1/c0.0.50.50/p50x50/21617852_150293375563687_9178307221533122080_n.jpg?oh=c49d9535334762a547a18fba4fa8e6e2&oe=5A74DE4C&__gda__=1516443989_b23beb46f3c7de8e564c9e20f72439e7', u'is_silhouette': False}}, u'link': u'https://www.facebook.com/app_scoped_user_id/160073154585709/', u'name': u'Deeptanu Gope', u'id': u'160073154585709'}\n",
      "{u'picture': {u'data': {u'url': u'https://fb-s-b-a.akamaihd.net/h-ak-fbx/v/t1.0-1/p50x50/22730502_125293291513231_4058887099931113788_n.jpg?oh=8589dad6a9fd8c42e66f19a8d01a9328&oe=5A69FDA1&__gda__=1516819350_759dc280ba18905cc0e74a5ba0cd4f78', u'is_silhouette': False}}, u'link': u'https://www.facebook.com/app_scoped_user_id/125639941478566/', u'name': u'Deeptanu Bhowmik', u'id': u'125639941478566'}\n",
      "{u'picture': {u'data': {u'url': u'https://fb-s-b-a.akamaihd.net/h-ak-fbx/v/t1.0-1/p50x50/22366839_1505867852793443_5997064529485495003_n.jpg?oh=5f8cadaa21b51452b3035fd9b93c2024&oe=5A6F08FE&__gda__=1520995750_e17a0921e1375819b7612ab11f818c5d', u'is_silhouette': False}}, u'link': u'https://www.facebook.com/app_scoped_user_id/1523285264385035/', u'name': u'Vidya Deepta', u'id': u'1523285264385035'}\n",
      "{u'picture': {u'data': {u'url': u'https://fb-s-a-a.akamaihd.net/h-ak-fbx/v/t1.0-1/c15.0.50.50/p50x50/1379841_10150004552801901_469209496895221757_n.jpg?oh=b5a77c94ba1b6c649a3b051e9db58d61&oe=5A681333&__gda__=1516685912_1fe502b19f6e8cf98f8a706ad502bc54', u'is_silhouette': True}}, u'link': u'https://www.facebook.com/app_scoped_user_id/2003356566614748/', u'name': u'Deeptanjali Dash', u'id': u'2003356566614748'}\n",
      "{u'picture': {u'data': {u'url': u'https://fb-s-b-a.akamaihd.net/h-ak-fbx/v/t1.0-1/p50x50/13507137_10210379129977942_1762654547117839066_n.jpg?oh=68c47849c7e6ad0d1aa1485a70bd05bd&oe=5A781412&__gda__=1518003330_d3184d5627a5e4e0ef846fc87b10612b', u'is_silhouette': False}}, u'link': u'https://www.facebook.com/app_scoped_user_id/10215412235602437/', u'name': u'Deepta Chakravartty', u'id': u'10215412235602437'}\n",
      "{u'picture': {u'data': {u'url': u'https://fb-s-c-a.akamaihd.net/h-ak-fbx/v/t1.0-1/c0.19.50.50/p50x50/20882160_1915855262031009_1661282548055479456_n.jpg?oh=841dca7b77ee8042b7f884c51e2c2a1a&oe=5A687C03&__gda__=1517588776_7a88b744abdb138a364f15ae87ad6671', u'is_silhouette': False}}, u'link': u'https://www.facebook.com/app_scoped_user_id/1948629265420275/', u'name': u'Deeptangshu Das', u'id': u'1948629265420275'}\n",
      "{u'picture': {u'data': {u'url': u'https://fb-s-b-a.akamaihd.net/h-ak-fbx/v/t1.0-1/c15.0.50.50/p50x50/10354686_10150004552801856_220367501106153455_n.jpg?oh=0498220bfacef58fe04df5f5c3bf0379&oe=5A75492F&__gda__=1517502980_f7edae8466549633aa165104731b3397', u'is_silhouette': True}}, u'link': u'https://www.facebook.com/app_scoped_user_id/384935405274864/', u'name': u'Deeptangshu Chatterjee', u'id': u'384935405274864'}\n",
      "{u'picture': {u'data': {u'url': u'https://fb-s-a-a.akamaihd.net/h-ak-fbx/v/t1.0-1/c15.0.50.50/p50x50/1379841_10150004552801901_469209496895221757_n.jpg?oh=b5a77c94ba1b6c649a3b051e9db58d61&oe=5A681333&__gda__=1516685912_1fe502b19f6e8cf98f8a706ad502bc54', u'is_silhouette': True}}, u'link': u'https://www.facebook.com/app_scoped_user_id/704983899700694/', u'name': u'Deepta Atre Strand', u'id': u'704983899700694'}\n",
      "{u'picture': {u'data': {u'url': u'https://fb-s-d-a.akamaihd.net/h-ak-fbx/v/t1.0-1/p50x50/13151787_1751653485053010_7100638263458876347_n.jpg?oh=839129a4c7006385874f48a0fb5690ed&oe=5A759A78&__gda__=1516612640_15348f045a3087b0fa58ec3b32f9de17', u'is_silhouette': False}}, u'link': u'https://www.facebook.com/app_scoped_user_id/1989659761252380/', u'name': u'Deeptara Kale', u'id': u'1989659761252380'}\n",
      "{u'picture': {u'data': {u'url': u'https://fb-s-c-a.akamaihd.net/h-ak-fbx/v/t1.0-1/p50x50/15202693_339113959814807_5672045002077494154_n.jpg?oh=44e354d96b718df783f2ce06211abb57&oe=5A70B0D8&__gda__=1517148399_05957550004258c31c2e46d1ddbf48ce', u'is_silhouette': False}}, u'link': u'https://www.facebook.com/app_scoped_user_id/545488699177331/', u'name': u'Deepta Barua', u'id': u'545488699177331'}\n"
     ]
    },
    {
     "ename": "KeyboardInterrupt",
     "evalue": "",
     "output_type": "error",
     "traceback": [
      "\u001b[0;31m---------------------------------------------------------------------------\u001b[0m",
      "\u001b[0;31mKeyboardInterrupt\u001b[0m                         Traceback (most recent call last)",
      "\u001b[0;32m<ipython-input-53-c1408caedb0d>\u001b[0m in \u001b[0;36m<module>\u001b[0;34m()\u001b[0m\n\u001b[1;32m      2\u001b[0m     \u001b[0muid\u001b[0m\u001b[0;34m=\u001b[0m\u001b[0mperson\u001b[0m\u001b[0;34m[\u001b[0m\u001b[0;34m'id'\u001b[0m\u001b[0;34m]\u001b[0m\u001b[0;34m\u001b[0m\u001b[0m\n\u001b[1;32m      3\u001b[0m \u001b[0;34m\u001b[0m\u001b[0m\n\u001b[0;32m----> 4\u001b[0;31m     \u001b[0mresponse\u001b[0m\u001b[0;34m=\u001b[0m\u001b[0mgraph\u001b[0m\u001b[0;34m.\u001b[0m\u001b[0mrequest\u001b[0m\u001b[0;34m(\u001b[0m\u001b[0;34m\"/\"\u001b[0m\u001b[0;34m+\u001b[0m\u001b[0muid\u001b[0m\u001b[0;34m+\u001b[0m\u001b[0;34m\"?fields=name,id,gender,about,link,picture&type=large,family,friends,likes\"\u001b[0m\u001b[0;34m)\u001b[0m\u001b[0;34m\u001b[0m\u001b[0m\n\u001b[0m\u001b[1;32m      5\u001b[0m     \u001b[0;32mprint\u001b[0m \u001b[0mresponse\u001b[0m\u001b[0;34m\u001b[0m\u001b[0m\n",
      "\u001b[0;32m/usr/local/lib/python2.7/dist-packages/facebook/__init__.pyc\u001b[0m in \u001b[0;36mrequest\u001b[0;34m(self, path, args, post_args, files, method)\u001b[0m\n\u001b[1;32m    245\u001b[0m                                         \u001b[0mdata\u001b[0m\u001b[0;34m=\u001b[0m\u001b[0mpost_args\u001b[0m\u001b[0;34m,\u001b[0m\u001b[0;34m\u001b[0m\u001b[0m\n\u001b[1;32m    246\u001b[0m                                         \u001b[0mproxies\u001b[0m\u001b[0;34m=\u001b[0m\u001b[0mself\u001b[0m\u001b[0;34m.\u001b[0m\u001b[0mproxies\u001b[0m\u001b[0;34m,\u001b[0m\u001b[0;34m\u001b[0m\u001b[0m\n\u001b[0;32m--> 247\u001b[0;31m                                         files=files)\n\u001b[0m\u001b[1;32m    248\u001b[0m         \u001b[0;32mexcept\u001b[0m \u001b[0mrequests\u001b[0m\u001b[0;34m.\u001b[0m\u001b[0mHTTPError\u001b[0m \u001b[0;32mas\u001b[0m \u001b[0me\u001b[0m\u001b[0;34m:\u001b[0m\u001b[0;34m\u001b[0m\u001b[0m\n\u001b[1;32m    249\u001b[0m             \u001b[0mresponse\u001b[0m \u001b[0;34m=\u001b[0m \u001b[0mjson\u001b[0m\u001b[0;34m.\u001b[0m\u001b[0mloads\u001b[0m\u001b[0;34m(\u001b[0m\u001b[0me\u001b[0m\u001b[0;34m.\u001b[0m\u001b[0mread\u001b[0m\u001b[0;34m(\u001b[0m\u001b[0;34m)\u001b[0m\u001b[0;34m)\u001b[0m\u001b[0;34m\u001b[0m\u001b[0m\n",
      "\u001b[0;32m/usr/local/lib/python2.7/dist-packages/requests/api.pyc\u001b[0m in \u001b[0;36mrequest\u001b[0;34m(method, url, **kwargs)\u001b[0m\n\u001b[1;32m     56\u001b[0m     \u001b[0;31m# cases, and look like a memory leak in others.\u001b[0m\u001b[0;34m\u001b[0m\u001b[0;34m\u001b[0m\u001b[0m\n\u001b[1;32m     57\u001b[0m     \u001b[0;32mwith\u001b[0m \u001b[0msessions\u001b[0m\u001b[0;34m.\u001b[0m\u001b[0mSession\u001b[0m\u001b[0;34m(\u001b[0m\u001b[0;34m)\u001b[0m \u001b[0;32mas\u001b[0m \u001b[0msession\u001b[0m\u001b[0;34m:\u001b[0m\u001b[0;34m\u001b[0m\u001b[0m\n\u001b[0;32m---> 58\u001b[0;31m         \u001b[0;32mreturn\u001b[0m \u001b[0msession\u001b[0m\u001b[0;34m.\u001b[0m\u001b[0mrequest\u001b[0m\u001b[0;34m(\u001b[0m\u001b[0mmethod\u001b[0m\u001b[0;34m=\u001b[0m\u001b[0mmethod\u001b[0m\u001b[0;34m,\u001b[0m \u001b[0murl\u001b[0m\u001b[0;34m=\u001b[0m\u001b[0murl\u001b[0m\u001b[0;34m,\u001b[0m \u001b[0;34m**\u001b[0m\u001b[0mkwargs\u001b[0m\u001b[0;34m)\u001b[0m\u001b[0;34m\u001b[0m\u001b[0m\n\u001b[0m\u001b[1;32m     59\u001b[0m \u001b[0;34m\u001b[0m\u001b[0m\n\u001b[1;32m     60\u001b[0m \u001b[0;34m\u001b[0m\u001b[0m\n",
      "\u001b[0;32m/usr/local/lib/python2.7/dist-packages/requests/sessions.pyc\u001b[0m in \u001b[0;36mrequest\u001b[0;34m(self, method, url, params, data, headers, cookies, files, auth, timeout, allow_redirects, proxies, hooks, stream, verify, cert, json)\u001b[0m\n\u001b[1;32m    506\u001b[0m         }\n\u001b[1;32m    507\u001b[0m         \u001b[0msend_kwargs\u001b[0m\u001b[0;34m.\u001b[0m\u001b[0mupdate\u001b[0m\u001b[0;34m(\u001b[0m\u001b[0msettings\u001b[0m\u001b[0;34m)\u001b[0m\u001b[0;34m\u001b[0m\u001b[0m\n\u001b[0;32m--> 508\u001b[0;31m         \u001b[0mresp\u001b[0m \u001b[0;34m=\u001b[0m \u001b[0mself\u001b[0m\u001b[0;34m.\u001b[0m\u001b[0msend\u001b[0m\u001b[0;34m(\u001b[0m\u001b[0mprep\u001b[0m\u001b[0;34m,\u001b[0m \u001b[0;34m**\u001b[0m\u001b[0msend_kwargs\u001b[0m\u001b[0;34m)\u001b[0m\u001b[0;34m\u001b[0m\u001b[0m\n\u001b[0m\u001b[1;32m    509\u001b[0m \u001b[0;34m\u001b[0m\u001b[0m\n\u001b[1;32m    510\u001b[0m         \u001b[0;32mreturn\u001b[0m \u001b[0mresp\u001b[0m\u001b[0;34m\u001b[0m\u001b[0m\n",
      "\u001b[0;32m/usr/local/lib/python2.7/dist-packages/requests/sessions.pyc\u001b[0m in \u001b[0;36msend\u001b[0;34m(self, request, **kwargs)\u001b[0m\n\u001b[1;32m    616\u001b[0m \u001b[0;34m\u001b[0m\u001b[0m\n\u001b[1;32m    617\u001b[0m         \u001b[0;31m# Send the request\u001b[0m\u001b[0;34m\u001b[0m\u001b[0;34m\u001b[0m\u001b[0m\n\u001b[0;32m--> 618\u001b[0;31m         \u001b[0mr\u001b[0m \u001b[0;34m=\u001b[0m \u001b[0madapter\u001b[0m\u001b[0;34m.\u001b[0m\u001b[0msend\u001b[0m\u001b[0;34m(\u001b[0m\u001b[0mrequest\u001b[0m\u001b[0;34m,\u001b[0m \u001b[0;34m**\u001b[0m\u001b[0mkwargs\u001b[0m\u001b[0;34m)\u001b[0m\u001b[0;34m\u001b[0m\u001b[0m\n\u001b[0m\u001b[1;32m    619\u001b[0m \u001b[0;34m\u001b[0m\u001b[0m\n\u001b[1;32m    620\u001b[0m         \u001b[0;31m# Total elapsed time of the request (approximately)\u001b[0m\u001b[0;34m\u001b[0m\u001b[0;34m\u001b[0m\u001b[0m\n",
      "\u001b[0;32m/usr/local/lib/python2.7/dist-packages/requests/adapters.pyc\u001b[0m in \u001b[0;36msend\u001b[0;34m(self, request, stream, timeout, verify, cert, proxies)\u001b[0m\n\u001b[1;32m    438\u001b[0m                     \u001b[0mdecode_content\u001b[0m\u001b[0;34m=\u001b[0m\u001b[0mFalse\u001b[0m\u001b[0;34m,\u001b[0m\u001b[0;34m\u001b[0m\u001b[0m\n\u001b[1;32m    439\u001b[0m                     \u001b[0mretries\u001b[0m\u001b[0;34m=\u001b[0m\u001b[0mself\u001b[0m\u001b[0;34m.\u001b[0m\u001b[0mmax_retries\u001b[0m\u001b[0;34m,\u001b[0m\u001b[0;34m\u001b[0m\u001b[0m\n\u001b[0;32m--> 440\u001b[0;31m                     \u001b[0mtimeout\u001b[0m\u001b[0;34m=\u001b[0m\u001b[0mtimeout\u001b[0m\u001b[0;34m\u001b[0m\u001b[0m\n\u001b[0m\u001b[1;32m    441\u001b[0m                 )\n\u001b[1;32m    442\u001b[0m \u001b[0;34m\u001b[0m\u001b[0m\n",
      "\u001b[0;32m/usr/local/lib/python2.7/dist-packages/urllib3/connectionpool.pyc\u001b[0m in \u001b[0;36murlopen\u001b[0;34m(self, method, url, body, headers, retries, redirect, assert_same_host, timeout, pool_timeout, release_conn, chunked, body_pos, **response_kw)\u001b[0m\n\u001b[1;32m    599\u001b[0m                                                   \u001b[0mtimeout\u001b[0m\u001b[0;34m=\u001b[0m\u001b[0mtimeout_obj\u001b[0m\u001b[0;34m,\u001b[0m\u001b[0;34m\u001b[0m\u001b[0m\n\u001b[1;32m    600\u001b[0m                                                   \u001b[0mbody\u001b[0m\u001b[0;34m=\u001b[0m\u001b[0mbody\u001b[0m\u001b[0;34m,\u001b[0m \u001b[0mheaders\u001b[0m\u001b[0;34m=\u001b[0m\u001b[0mheaders\u001b[0m\u001b[0;34m,\u001b[0m\u001b[0;34m\u001b[0m\u001b[0m\n\u001b[0;32m--> 601\u001b[0;31m                                                   chunked=chunked)\n\u001b[0m\u001b[1;32m    602\u001b[0m \u001b[0;34m\u001b[0m\u001b[0m\n\u001b[1;32m    603\u001b[0m             \u001b[0;31m# If we're going to release the connection in ``finally:``, then\u001b[0m\u001b[0;34m\u001b[0m\u001b[0;34m\u001b[0m\u001b[0m\n",
      "\u001b[0;32m/usr/local/lib/python2.7/dist-packages/urllib3/connectionpool.pyc\u001b[0m in \u001b[0;36m_make_request\u001b[0;34m(self, conn, method, url, timeout, chunked, **httplib_request_kw)\u001b[0m\n\u001b[1;32m    344\u001b[0m         \u001b[0;31m# Trigger any extra validation we need to do.\u001b[0m\u001b[0;34m\u001b[0m\u001b[0;34m\u001b[0m\u001b[0m\n\u001b[1;32m    345\u001b[0m         \u001b[0;32mtry\u001b[0m\u001b[0;34m:\u001b[0m\u001b[0;34m\u001b[0m\u001b[0m\n\u001b[0;32m--> 346\u001b[0;31m             \u001b[0mself\u001b[0m\u001b[0;34m.\u001b[0m\u001b[0m_validate_conn\u001b[0m\u001b[0;34m(\u001b[0m\u001b[0mconn\u001b[0m\u001b[0;34m)\u001b[0m\u001b[0;34m\u001b[0m\u001b[0m\n\u001b[0m\u001b[1;32m    347\u001b[0m         \u001b[0;32mexcept\u001b[0m \u001b[0;34m(\u001b[0m\u001b[0mSocketTimeout\u001b[0m\u001b[0;34m,\u001b[0m \u001b[0mBaseSSLError\u001b[0m\u001b[0;34m)\u001b[0m \u001b[0;32mas\u001b[0m \u001b[0me\u001b[0m\u001b[0;34m:\u001b[0m\u001b[0;34m\u001b[0m\u001b[0m\n\u001b[1;32m    348\u001b[0m             \u001b[0;31m# Py2 raises this as a BaseSSLError, Py3 raises it as socket timeout.\u001b[0m\u001b[0;34m\u001b[0m\u001b[0;34m\u001b[0m\u001b[0m\n",
      "\u001b[0;32m/usr/local/lib/python2.7/dist-packages/urllib3/connectionpool.pyc\u001b[0m in \u001b[0;36m_validate_conn\u001b[0;34m(self, conn)\u001b[0m\n\u001b[1;32m    848\u001b[0m         \u001b[0;31m# Force connect early to allow us to validate the connection.\u001b[0m\u001b[0;34m\u001b[0m\u001b[0;34m\u001b[0m\u001b[0m\n\u001b[1;32m    849\u001b[0m         \u001b[0;32mif\u001b[0m \u001b[0;32mnot\u001b[0m \u001b[0mgetattr\u001b[0m\u001b[0;34m(\u001b[0m\u001b[0mconn\u001b[0m\u001b[0;34m,\u001b[0m \u001b[0;34m'sock'\u001b[0m\u001b[0;34m,\u001b[0m \u001b[0mNone\u001b[0m\u001b[0;34m)\u001b[0m\u001b[0;34m:\u001b[0m  \u001b[0;31m# AppEngine might not have  `.sock`\u001b[0m\u001b[0;34m\u001b[0m\u001b[0m\n\u001b[0;32m--> 850\u001b[0;31m             \u001b[0mconn\u001b[0m\u001b[0;34m.\u001b[0m\u001b[0mconnect\u001b[0m\u001b[0;34m(\u001b[0m\u001b[0;34m)\u001b[0m\u001b[0;34m\u001b[0m\u001b[0m\n\u001b[0m\u001b[1;32m    851\u001b[0m \u001b[0;34m\u001b[0m\u001b[0m\n\u001b[1;32m    852\u001b[0m         \u001b[0;32mif\u001b[0m \u001b[0;32mnot\u001b[0m \u001b[0mconn\u001b[0m\u001b[0;34m.\u001b[0m\u001b[0mis_verified\u001b[0m\u001b[0;34m:\u001b[0m\u001b[0;34m\u001b[0m\u001b[0m\n",
      "\u001b[0;32m/usr/local/lib/python2.7/dist-packages/urllib3/connection.pyc\u001b[0m in \u001b[0;36mconnect\u001b[0;34m(self)\u001b[0m\n\u001b[1;32m    324\u001b[0m             \u001b[0mca_cert_dir\u001b[0m\u001b[0;34m=\u001b[0m\u001b[0mself\u001b[0m\u001b[0;34m.\u001b[0m\u001b[0mca_cert_dir\u001b[0m\u001b[0;34m,\u001b[0m\u001b[0;34m\u001b[0m\u001b[0m\n\u001b[1;32m    325\u001b[0m             \u001b[0mserver_hostname\u001b[0m\u001b[0;34m=\u001b[0m\u001b[0mhostname\u001b[0m\u001b[0;34m,\u001b[0m\u001b[0;34m\u001b[0m\u001b[0m\n\u001b[0;32m--> 326\u001b[0;31m             ssl_context=context)\n\u001b[0m\u001b[1;32m    327\u001b[0m \u001b[0;34m\u001b[0m\u001b[0m\n\u001b[1;32m    328\u001b[0m         \u001b[0;32mif\u001b[0m \u001b[0mself\u001b[0m\u001b[0;34m.\u001b[0m\u001b[0massert_fingerprint\u001b[0m\u001b[0;34m:\u001b[0m\u001b[0;34m\u001b[0m\u001b[0m\n",
      "\u001b[0;32m/usr/local/lib/python2.7/dist-packages/urllib3/util/ssl_.pyc\u001b[0m in \u001b[0;36mssl_wrap_socket\u001b[0;34m(sock, keyfile, certfile, cert_reqs, ca_certs, server_hostname, ssl_version, ciphers, ssl_context, ca_cert_dir)\u001b[0m\n\u001b[1;32m    327\u001b[0m         \u001b[0mcontext\u001b[0m\u001b[0;34m.\u001b[0m\u001b[0mload_cert_chain\u001b[0m\u001b[0;34m(\u001b[0m\u001b[0mcertfile\u001b[0m\u001b[0;34m,\u001b[0m \u001b[0mkeyfile\u001b[0m\u001b[0;34m)\u001b[0m\u001b[0;34m\u001b[0m\u001b[0m\n\u001b[1;32m    328\u001b[0m     \u001b[0;32mif\u001b[0m \u001b[0mHAS_SNI\u001b[0m\u001b[0;34m:\u001b[0m  \u001b[0;31m# Platform-specific: OpenSSL with enabled SNI\u001b[0m\u001b[0;34m\u001b[0m\u001b[0m\n\u001b[0;32m--> 329\u001b[0;31m         \u001b[0;32mreturn\u001b[0m \u001b[0mcontext\u001b[0m\u001b[0;34m.\u001b[0m\u001b[0mwrap_socket\u001b[0m\u001b[0;34m(\u001b[0m\u001b[0msock\u001b[0m\u001b[0;34m,\u001b[0m \u001b[0mserver_hostname\u001b[0m\u001b[0;34m=\u001b[0m\u001b[0mserver_hostname\u001b[0m\u001b[0;34m)\u001b[0m\u001b[0;34m\u001b[0m\u001b[0m\n\u001b[0m\u001b[1;32m    330\u001b[0m \u001b[0;34m\u001b[0m\u001b[0m\n\u001b[1;32m    331\u001b[0m     warnings.warn(\n",
      "\u001b[0;32m/usr/local/lib/python2.7/dist-packages/urllib3/contrib/pyopenssl.pyc\u001b[0m in \u001b[0;36mwrap_socket\u001b[0;34m(self, sock, server_side, do_handshake_on_connect, suppress_ragged_eofs, server_hostname)\u001b[0m\n\u001b[1;32m    439\u001b[0m         \u001b[0;32mwhile\u001b[0m \u001b[0mTrue\u001b[0m\u001b[0;34m:\u001b[0m\u001b[0;34m\u001b[0m\u001b[0m\n\u001b[1;32m    440\u001b[0m             \u001b[0;32mtry\u001b[0m\u001b[0;34m:\u001b[0m\u001b[0;34m\u001b[0m\u001b[0m\n\u001b[0;32m--> 441\u001b[0;31m                 \u001b[0mcnx\u001b[0m\u001b[0;34m.\u001b[0m\u001b[0mdo_handshake\u001b[0m\u001b[0;34m(\u001b[0m\u001b[0;34m)\u001b[0m\u001b[0;34m\u001b[0m\u001b[0m\n\u001b[0m\u001b[1;32m    442\u001b[0m             \u001b[0;32mexcept\u001b[0m \u001b[0mOpenSSL\u001b[0m\u001b[0;34m.\u001b[0m\u001b[0mSSL\u001b[0m\u001b[0;34m.\u001b[0m\u001b[0mWantReadError\u001b[0m\u001b[0;34m:\u001b[0m\u001b[0;34m\u001b[0m\u001b[0m\n\u001b[1;32m    443\u001b[0m                 \u001b[0mrd\u001b[0m \u001b[0;34m=\u001b[0m \u001b[0mutil\u001b[0m\u001b[0;34m.\u001b[0m\u001b[0mwait_for_read\u001b[0m\u001b[0;34m(\u001b[0m\u001b[0msock\u001b[0m\u001b[0;34m,\u001b[0m \u001b[0msock\u001b[0m\u001b[0;34m.\u001b[0m\u001b[0mgettimeout\u001b[0m\u001b[0;34m(\u001b[0m\u001b[0;34m)\u001b[0m\u001b[0;34m)\u001b[0m\u001b[0;34m\u001b[0m\u001b[0m\n",
      "\u001b[0;32m/usr/lib/python2.7/dist-packages/OpenSSL/SSL.pyc\u001b[0m in \u001b[0;36mdo_handshake\u001b[0;34m(self)\u001b[0m\n\u001b[1;32m   1439\u001b[0m         \u001b[0;34m:\u001b[0m\u001b[0;32mreturn\u001b[0m\u001b[0;34m:\u001b[0m \u001b[0mNone\u001b[0m\u001b[0;34m.\u001b[0m\u001b[0;34m\u001b[0m\u001b[0m\n\u001b[1;32m   1440\u001b[0m         \"\"\"\n\u001b[0;32m-> 1441\u001b[0;31m         \u001b[0mresult\u001b[0m \u001b[0;34m=\u001b[0m \u001b[0m_lib\u001b[0m\u001b[0;34m.\u001b[0m\u001b[0mSSL_do_handshake\u001b[0m\u001b[0;34m(\u001b[0m\u001b[0mself\u001b[0m\u001b[0;34m.\u001b[0m\u001b[0m_ssl\u001b[0m\u001b[0;34m)\u001b[0m\u001b[0;34m\u001b[0m\u001b[0m\n\u001b[0m\u001b[1;32m   1442\u001b[0m         \u001b[0mself\u001b[0m\u001b[0;34m.\u001b[0m\u001b[0m_raise_ssl_error\u001b[0m\u001b[0;34m(\u001b[0m\u001b[0mself\u001b[0m\u001b[0;34m.\u001b[0m\u001b[0m_ssl\u001b[0m\u001b[0;34m,\u001b[0m \u001b[0mresult\u001b[0m\u001b[0;34m)\u001b[0m\u001b[0;34m\u001b[0m\u001b[0m\n\u001b[1;32m   1443\u001b[0m \u001b[0;34m\u001b[0m\u001b[0m\n",
      "\u001b[0;31mKeyboardInterrupt\u001b[0m: "
     ]
    }
   ],
   "source": [
    "for person in resp['data']:\n",
    "    uid=person['id']\n",
    "    \n",
    "    response=graph.request(\"/\"+uid+\"?fields=name,id,gender,about,link,picture&type=large,family,friends,likes\")\n",
    "    print response"
   ]
  },
  {
   "cell_type": "code",
   "execution_count": null,
   "metadata": {
    "collapsed": true
   },
   "outputs": [],
   "source": []
  }
 ],
 "metadata": {
  "kernelspec": {
   "display_name": "Python 2",
   "language": "python",
   "name": "python2"
  },
  "language_info": {
   "codemirror_mode": {
    "name": "ipython",
    "version": 2
   },
   "file_extension": ".py",
   "mimetype": "text/x-python",
   "name": "python",
   "nbconvert_exporter": "python",
   "pygments_lexer": "ipython2",
   "version": "2.7.12"
  }
 },
 "nbformat": 4,
 "nbformat_minor": 2
}
