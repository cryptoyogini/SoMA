{
 "cells": [
  {
   "cell_type": "code",
   "execution_count": 2,
   "metadata": {},
   "outputs": [],
   "source": [
    "import os,sys\n",
    "sys.path.append(\"../lib\")\n",
    "from libsoma import *\n",
    "from libsomacli import *\n"
   ]
  },
  {
   "cell_type": "code",
   "execution_count": 3,
   "metadata": {
    "collapsed": true
   },
   "outputs": [],
   "source": [
    "dictin={\"name\":\"Arjun\",\"work\":\"hacker\",\"place\":\"Kosi\"}\n",
    "jsonout=json.dumps(dictin)\n",
    "s=SoMAPost(jsonout)\n"
   ]
  },
  {
   "cell_type": "code",
   "execution_count": 4,
   "metadata": {},
   "outputs": [
    {
     "name": "stdout",
     "output_type": "stream",
     "text": [
      "[u'work', u'place', u'name']\n",
      "hacker\n"
     ]
    }
   ],
   "source": [
    "print s.dictionary.keys()\n",
    "print s.attributes.work"
   ]
  },
  {
   "cell_type": "code",
   "execution_count": 5,
   "metadata": {
    "collapsed": true
   },
   "outputs": [],
   "source": [
    "import facebook\n",
    "f=open(\"/opt/somaaccesstoken\")\n",
    "gapitoken=f.read().strip()\n",
    "graph = facebook.GraphAPI(gapitoken)\n"
   ]
  },
  {
   "cell_type": "code",
   "execution_count": 6,
   "metadata": {
    "collapsed": true
   },
   "outputs": [],
   "source": [
    "resp=graph.get_object('me')"
   ]
  },
  {
   "cell_type": "code",
   "execution_count": 7,
   "metadata": {},
   "outputs": [
    {
     "name": "stdout",
     "output_type": "stream",
     "text": [
      "{u'name': u'Soma Community', u'id': u'1051370315005909'}\n"
     ]
    }
   ],
   "source": [
    "print resp"
   ]
  },
  {
   "cell_type": "code",
   "execution_count": null,
   "metadata": {
    "collapsed": true,
    "scrolled": true
   },
   "outputs": [],
   "source": []
  },
  {
   "cell_type": "code",
   "execution_count": 7,
   "metadata": {
    "collapsed": true
   },
   "outputs": [],
   "source": [
    " post_id=graph.put_object(parent_object='me', connection_name='feed',\n",
    "                  message='Really! Hello, world')"
   ]
  },
  {
   "cell_type": "code",
   "execution_count": 8,
   "metadata": {},
   "outputs": [
    {
     "name": "stdout",
     "output_type": "stream",
     "text": [
      "{u'id': u'1051370315005909_1051819898294284'}\n"
     ]
    }
   ],
   "source": [
    "print post_id"
   ]
  },
  {
   "cell_type": "code",
   "execution_count": 9,
   "metadata": {
    "collapsed": true
   },
   "outputs": [],
   "source": [
    "returnval=graph.put_like(object_id=post_id['id'])"
   ]
  },
  {
   "cell_type": "code",
   "execution_count": 10,
   "metadata": {
    "collapsed": true
   },
   "outputs": [],
   "source": [
    "returnval=graph.put_comment(object_id=post_id['id'], message='Great post...')"
   ]
  },
  {
   "cell_type": "code",
   "execution_count": 41,
   "metadata": {
    "collapsed": true
   },
   "outputs": [],
   "source": [
    "returnval=graph.get_object(id=\"me/feed\")"
   ]
  },
  {
   "cell_type": "code",
   "execution_count": 37,
   "metadata": {},
   "outputs": [
    {
     "name": "stdout",
     "output_type": "stream",
     "text": [
      "{u'paging': {u'cursors': {u'after': u'Q2c4U1pXNTBYM0YxWlhKNVgzTjBiM0o1WDJsa0R5UXhNRFV4TXpjd016RTFNREExT1RBNU9qRTNNVEEyT1RNMk5qazJOekUyT0RVMk5USVBER0ZA3YVY5emRHOXllVjlwWkE4aE1UQTFNVE0zTURNeE5UQXdOVGt3T1Y4eE1EVXhPVEl3TURZANE1qZAzBNalkzRHdSMGFXMWxCbG4wVGRZAQgZDZD', u'before': u'Q2c4U1pXNTBYM0YxWlhKNVgzTjBiM0o1WDJsa0R5UXhNRFV4TXpjd016RTFNREExT1RBNU9qYzNNakkwTkRNNU9UVTNNVFk1TVRjek9ESVBER0ZA3YVY5emRHOXllVjlwWkE4aE1UQTFNVE0zTURNeE5UQXdOVGt3T1Y4eE1EVXhPVEkyTkRBeE5qRTJPVFkzRHdSMGFXMWxCbG4wVXJ3QgZDZD'}, u'next': u'https://graph.facebook.com/v2.10/1051370315005909/feed?access_token=EAACks6sLulMBAOrZCFAEzUuKz4LABIoycCy3eITqizvFXMjtZCMhccZC4ZBqeqIzdGCcHMGBssyon5ebL6zP8XDZAICSFy5Tf3ZBhKMgUHduATR4JcPFH82Lb2cTsZBLKPmmR8P1qr0pIR7ZCGytIWTDufXkQM9tuTPun3b1iQ9PdwZDZD&limit=25&after=Q2c4U1pXNTBYM0YxWlhKNVgzTjBiM0o1WDJsa0R5UXhNRFV4TXpjd016RTFNREExT1RBNU9qRTNNVEEyT1RNMk5qazJOekUyT0RVMk5USVBER0ZA3YVY5emRHOXllVjlwWkE4aE1UQTFNVE0zTURNeE5UQXdOVGt3T1Y4eE1EVXhPVEl3TURZANE1qZAzBNalkzRHdSMGFXMWxCbG4wVGRZAQgZDZD'}, u'data': [{u'created_time': u'2017-10-28T09:49:48+0000', u'message': u'Tempt not a desperate man.\\n -- William Shakespeare, \"Romeo and Juliet\"', u'id': u'1051370315005909_1051926401616967'}, {u'created_time': u'2017-10-28T09:48:56+0000', u'message': u'You will have a long and boring life.', u'id': u'1051370315005909_1051926171616990'}, {u'created_time': u'2017-10-28T09:48:04+0000', u'message': u'For courage mounteth with occasion.\\n -- William Shakespeare, \"King John\"', u'id': u'1051370315005909_1051925964950344'}, {u'created_time': u'2017-10-28T09:47:10+0000', u'message': u'You will overcome the attacks of jealous associates.', u'id': u'1051370315005909_1051925754950365'}, {u'created_time': u'2017-10-28T09:46:18+0000', u'message': u'Q: How many psychiatrists does it take to change a light bulb?\\nA: Only one, but it takes a long time, and the light bulb has\\n to really want to change.', u'id': u'1051370315005909_1051925538283720'}, {u'created_time': u'2017-10-28T09:45:26+0000', u'message': u'When you are about to die, a wombat is better than no company at all.\\n -- Roger Zelazny, \"Doorways in the Sand\"', u'id': u'1051370315005909_1051925148283759'}, {u'created_time': u'2017-10-28T09:44:33+0000', u'message': u'Do what comes naturally.  Seethe and fume and throw a tantrum.', u'id': u'1051370315005909_1051924834950457'}, {u'created_time': u'2017-10-28T09:43:41+0000', u'message': u'Remark of Dr. Baldwin\\'s concerning upstarts: We don\\'t care to eat toadstools\\nthat think they are truffles.\\n -- Mark Twain, \"Pudd\\'nhead Wilson\\'s Calendar\"', u'id': u'1051370315005909_1051924498283824'}, {u'created_time': u'2017-10-28T09:42:49+0000', u'message': u'Rebellion lay in his way, and he found it.\\n -- William Shakespeare, \"Henry IV\"', u'id': u'1051370315005909_1051924188283855'}, {u'created_time': u'2017-10-28T09:41:56+0000', u'message': u'Is that really YOU that is reading this?', u'id': u'1051370315005909_1051923968283877'}, {u'created_time': u'2017-10-28T09:41:04+0000', u'message': u'When angry, count four; when very angry, swear.\\n -- Mark Twain, \"Pudd\\'nhead Wilson\\'s Calendar\"', u'id': u'1051370315005909_1051923758283898'}, {u'created_time': u'2017-10-28T09:40:12+0000', u'message': u'Q: What do you call a principal female opera singer whose high C\\n is lower than those of other principal female opera singers?\\nA: A deep C diva.', u'id': u'1051370315005909_1051923518283922'}, {u'created_time': u'2017-10-28T09:39:20+0000', u'message': u'Your business will assume vast proportions.', u'id': u'1051370315005909_1051923294950611'}, {u'created_time': u'2017-10-28T09:38:28+0000', u'message': u'Your ignorance cramps my conversation.', u'id': u'1051370315005909_1051922944950646'}, {u'created_time': u'2017-10-28T09:37:36+0000', u'message': u\"Writing is turning one's worst moments into money.\\n -- J.P. Donleavy\", u'id': u'1051370315005909_1051922764950664'}, {u'created_time': u'2017-10-28T09:36:43+0000', u'message': u'Slow day.  Practice crawling.', u'id': u'1051370315005909_1051922634950677'}, {u'created_time': u'2017-10-28T09:35:51+0000', u'message': u'Unless hours were cups of sack, and minutes capons, and clocks the tongues\\nof bawds, and dials the signs of leaping houses, and the blessed sun himself\\na fair, hot wench in flame-colored taffeta, I see no reason why thou shouldst\\nbe so superfluous to demand the time of the day.  I wasted time and now doth\\ntime waste me.\\n -- William Shakespeare', u'id': u'1051370315005909_1051922501617357'}, {u'created_time': u'2017-10-28T09:34:59+0000', u'message': u\"Knock, knock!\\n Who's there?\\nSam and Janet.\\n Sam and Janet who?\\nSam and Janet Evening...\", u'id': u'1051370315005909_1051922251617382'}, {u'created_time': u'2017-10-28T09:34:07+0000', u'message': u'Q: What do monsters eat?\\nA: Things.\\n\\nQ: What do monsters drink?\\nA: Coke.  (Because Things go better with Coke.)', u'id': u'1051370315005909_1051922101617397'}, {u'created_time': u'2017-10-28T09:33:15+0000', u'message': u'Your manuscript is both good and original, but the part that is good is not\\noriginal and the part that is original is not good.\\n -- Samuel Johnson', u'id': u'1051370315005909_1051921711617436'}, {u'created_time': u'2017-10-28T09:32:23+0000', u'message': u'You are sick, twisted and perverted.  I like that in a person.', u'id': u'1051370315005909_1051921351617472'}, {u'created_time': u'2017-10-28T09:31:30+0000', u'message': u\"Don't tell any big lies today.  Small ones can be just as effective.\", u'id': u'1051370315005909_1051920948284179'}, {u'created_time': u'2017-10-28T09:30:38+0000', u'message': u'You will give someone a piece of your mind, which you can ill afford.', u'id': u'1051370315005909_1051920641617543'}, {u'created_time': u'2017-10-28T09:29:46+0000', u'message': u'You are farsighted, a good planner, an ardent lover, and a faithful friend.', u'id': u'1051370315005909_1051920314950909'}, {u'created_time': u'2017-10-28T09:28:54+0000', u'message': u'You have the power to influence all with whom you come in contact.', u'id': u'1051370315005909_1051920068284267'}]}\n"
     ]
    }
   ],
   "source": [
    "print returnval"
   ]
  },
  {
   "cell_type": "code",
   "execution_count": 29,
   "metadata": {},
   "outputs": [
    {
     "name": "stdout",
     "output_type": "stream",
     "text": [
      "{u'created_time': u'2017-10-28T07:40:19+0000', u'story': u'Soma Community updated their profile picture.', u'id': u'1051370315005909_1051887064954234'}\n",
      "{u'created_time': u'2017-10-28T04:59:03+0000', u'message': u'Really! Hello, world', u'id': u'1051370315005909_1051819898294284'}\n",
      "{u'created_time': u'2017-10-28T04:55:13+0000', u'message': u'Hello, world', u'id': u'1051370315005909_1051818831627724'}\n",
      "{u'created_time': u'2017-10-27T14:05:01+0000', u'message': u'Hello, world', u'id': u'1051370315005909_1051470938329180'}\n"
     ]
    }
   ],
   "source": [
    "for val in returnval['data']:\n",
    "    print val"
   ]
  },
  {
   "cell_type": "code",
   "execution_count": null,
   "metadata": {
    "collapsed": true
   },
   "outputs": [],
   "source": [
    "for val in returnval['data']:\n",
    "    print graph.put_like(object_id=val['id'])"
   ]
  },
  {
   "cell_type": "code",
   "execution_count": null,
   "metadata": {},
   "outputs": [
    {
     "name": "stdout",
     "output_type": "stream",
     "text": [
      "Many enraged psychiatrists are inciting a weary butcher.  The butcher is\n",
      "weary and tired because he has cut meat and steak and lamb for hours and\n",
      "weeks.  He does not desire to chant about anything with raving psychiatrists,\n",
      "but he sings about his gingivectomist, he dreams about a single cosmologist,\n",
      "he thinks about his dog.  The dog is named Herbert.\n",
      "\t\t-- Racter, \"The Policeman's Beard is Half-Constructed\"\n",
      "{u'id': u'1051933118282962_1051935768282697'}\n",
      "Today is the tomorrow you worried about yesterday.\n",
      "{u'id': u'1051932508283023_1051935784949362'}\n",
      "You will have a long and unpleasant discussion with your supervisor.\n",
      "{u'id': u'1051931844949756_1051935798282694'}\n",
      "After your lover has gone you will still have PEANUT BUTTER!\n",
      "{u'id': u'1051931614949779_1051935818282692'}\n",
      "Q:\tWhy is Christmas just like a day at the office?\n",
      "A:\tYou do all of the work and the fat guy in the suit\n",
      "\tgets all the credit.\n",
      "{u'id': u'1051930971616510_1051935834949357'}\n",
      "The difference between a Miracle and a Fact is exactly the difference\n",
      "between a mermaid and a seal.\n",
      "\t\t-- Mark Twain\n",
      "{u'id': u'1051930858283188_1051935844949356'}\n",
      "Familiarity breeds contempt -- and children.\n",
      "\t\t-- Mark Twain\n",
      "{u'id': u'1051930561616551_1051935858282688'}\n",
      "Q:\tHow many IBM types does it take to change a light bulb?\n",
      "A:\tFifteen.  One to do it, and fourteen to write document number\n",
      "\tGC7500439-0001, Multitasking Incandescent Source System Facility,\n",
      "\tof which 10% of the pages state only \"This page intentionally\n",
      "\tleft blank\", and 20% of the definitions are of the form \"A:.....\n",
      "\tconsists of sequences of non-blank characters separated by blanks\".\n",
      "{u'id': u'1051930334949907_1051935874949353'}\n",
      "You should emulate your heros, but don't carry it too far.  Especially\n",
      "if they are dead.\n",
      "{u'id': u'1051930018283272_1051935898282684'}\n",
      "Just to have it is enough.\n",
      "{u'id': u'1051929804949960_1051935914949349'}\n",
      "Stay away from hurricanes for a while.\n",
      "{u'id': u'1051929564949984_1051935921616015'}\n",
      "Things past redress and now with me past care.\n",
      "\t\t-- William Shakespeare, \"Richard II\"\n",
      "{u'id': u'1051929334950007_1051935931616014'}\n",
      "Small things make base men proud.\n",
      "\t\t-- William Shakespeare, \"Henry VI\"\n",
      "{u'id': u'1051929168283357_1051935944949346'}\n",
      "You look tired.\n",
      "{u'id': u'1051928904950050_1051935961616011'}\n",
      "Many a writer seems to think he is never profound except when he can't\n",
      "understand his own meaning.\n",
      "\t\t-- George D. Prentice\n",
      "{u'id': u'1051928721616735_1051935971616010'}\n",
      "You will gain money by a fattening action.\n",
      "{u'id': u'1051928344950106_1051936001616007'}\n",
      "Steady movement is more important than speed, much of the time.  So long\n",
      "as there is a regular progression of stimuli to get your mental hooks\n",
      "into, there is room for lateral movement.  Once this begins, its rate is\n",
      "a matter of discretion.\n",
      "\t\t-- Corwin, Prince of Amber\n",
      "{u'id': u'1051928064950134_1051936021616005'}\n",
      "The man who sets out to carry a cat by its tail learns something that\n",
      "will always be useful and which never will grow dim or doubtful.\n",
      "\t\t-- Mark Twain\n",
      "{u'id': u'1051927728283501_1051936034949337'}\n",
      "Lord, what fools these mortals be!\n",
      "\t\t-- William Shakespeare, \"A Midsummer-Night's Dream\"\n",
      "{u'id': u'1051927514950189_1051936041616003'}\n",
      "You have the capacity to learn from mistakes.  You'll learn a lot today.\n",
      "{u'id': u'1051926401616967_1051936048282669'}\n",
      "You are fighting for survival in your own sweet and gentle way.\n",
      "{u'id': u'1051926171616990_1051936074949333'}\n",
      "You are magnetic in your bearing.\n",
      "{u'id': u'1051925964950344_1051936098282664'}\n",
      "You enjoy the company of other people.\n",
      "{u'id': u'1051925754950365_1051936148282659'}\n",
      "Many enraged psychiatrists are inciting a weary butcher.  The butcher is\n",
      "weary and tired because he has cut meat and steak and lamb for hours and\n",
      "weeks.  He does not desire to chant about anything with raving psychiatrists,\n",
      "but he sings about his gingivectomist, he dreams about a single cosmologist,\n",
      "he thinks about his dog.  The dog is named Herbert.\n",
      "\t\t-- Racter, \"The Policeman's Beard is Half-Constructed\"\n",
      "{u'id': u'1051925538283720_1051936228282651'}\n",
      "A visit to a fresh place will bring strange work.\n",
      "{u'id': u'1051925148283759_1051936248282649'}\n"
     ]
    }
   ],
   "source": [
    "import os\n",
    "for val in returnval['data']:\n",
    "    #print graph.put_like(object_id=val['id'])\n",
    "    comment=os.popen(\"fortune\").read().strip()\n",
    "    print comment\n",
    "    print graph.put_comment(object_id=val['id'],message=comment)\n",
    "    "
   ]
  },
  {
   "cell_type": "code",
   "execution_count": 14,
   "metadata": {},
   "outputs": [
    {
     "name": "stdout",
     "output_type": "stream",
     "text": [
      "You will step on the night soil of many countries.\n",
      "There is an old time toast which is golden for its beauty.\n",
      "\"When you ascend the hill of prosperity may you not meet a friend.\"\n",
      "\t\t-- Mark Twain\n",
      "There are three infallible ways of pleasing an author, and the three form a\n",
      "rising scale of compliment: 1, to tell him you have read one of his books; 2,\n",
      "to tell him you have read all of his books; 3, to ask him to let you read the\n",
      "manuscript of his forthcoming book.  No. 1 admits you to his respect; No. 2\n",
      "admits you to his admiration; No. 3 carries you clear into his heart.\n",
      "\t\t-- Mark Twain, \"Pudd'nhead Wilson's Calendar\"\n",
      "You will be reincarnated as a toad; and you will be much happier.\n",
      "He that breaks a thing to find out what it is has left the path of wisdom.\n",
      "\t\t-- J.R.R. Tolkien\n",
      "Someone whom you reject today, will reject you tomorrow.\n",
      "Go to a movie tonight.  Darkness becomes you.\n"
     ]
    },
    {
     "ename": "KeyboardInterrupt",
     "evalue": "",
     "output_type": "error",
     "traceback": [
      "\u001b[0;31m---------------------------------------------------------------------------\u001b[0m",
      "\u001b[0;31mKeyboardInterrupt\u001b[0m                         Traceback (most recent call last)",
      "\u001b[0;32m<ipython-input-14-7a5b170c0e3e>\u001b[0m in \u001b[0;36m<module>\u001b[0;34m()\u001b[0m\n\u001b[1;32m      7\u001b[0m     \u001b[0mpost_ids\u001b[0m\u001b[0;34m.\u001b[0m\u001b[0mappend\u001b[0m\u001b[0;34m(\u001b[0m\u001b[0mpost_id\u001b[0m\u001b[0;34m)\u001b[0m\u001b[0;34m\u001b[0m\u001b[0m\n\u001b[1;32m      8\u001b[0m     \u001b[0;32mif\u001b[0m \u001b[0mlen\u001b[0m\u001b[0;34m(\u001b[0m\u001b[0mpost_ids\u001b[0m\u001b[0;34m)\u001b[0m\u001b[0;34m<\u001b[0m\u001b[0;36m50\u001b[0m\u001b[0;34m:\u001b[0m\u001b[0;34m\u001b[0m\u001b[0m\n\u001b[0;32m----> 9\u001b[0;31m         \u001b[0mtime\u001b[0m\u001b[0;34m.\u001b[0m\u001b[0msleep\u001b[0m\u001b[0;34m(\u001b[0m\u001b[0;36m50\u001b[0m\u001b[0;34m)\u001b[0m\u001b[0;34m\u001b[0m\u001b[0m\n\u001b[0m\u001b[1;32m     10\u001b[0m     \u001b[0;32melse\u001b[0m\u001b[0;34m:\u001b[0m\u001b[0;34m\u001b[0m\u001b[0m\n\u001b[1;32m     11\u001b[0m         \u001b[0;32mbreak\u001b[0m\u001b[0;34m\u001b[0m\u001b[0m\n",
      "\u001b[0;31mKeyboardInterrupt\u001b[0m: "
     ]
    }
   ],
   "source": [
    "import time\n",
    "post_ids=[]\n",
    "while True:\n",
    "    post=os.popen(\"fortune\").read().strip()\n",
    "    print post\n",
    "    post_id=graph.put_object(parent_object='me', connection_name='feed', message=post)\n",
    "    post_ids.append(post_id)\n",
    "    if len(post_ids)<50:\n",
    "        time.sleep(50)\n",
    "    else:\n",
    "        break\n",
    "    "
   ]
  },
  {
   "cell_type": "code",
   "execution_count": 16,
   "metadata": {},
   "outputs": [
    {
     "ename": "GraphAPIError",
     "evalue": "(#279) Requires read_page_mailboxes permission to manage the object",
     "output_type": "error",
     "traceback": [
      "\u001b[0;31m---------------------------------------------------------------------------\u001b[0m",
      "\u001b[0;31mGraphAPIError\u001b[0m                             Traceback (most recent call last)",
      "\u001b[0;32m<ipython-input-16-d1cacb0fd09e>\u001b[0m in \u001b[0;36m<module>\u001b[0;34m()\u001b[0m\n\u001b[0;32m----> 1\u001b[0;31m \u001b[0mresp\u001b[0m\u001b[0;34m=\u001b[0m\u001b[0mgraph\u001b[0m\u001b[0;34m.\u001b[0m\u001b[0mget_connections\u001b[0m\u001b[0;34m(\u001b[0m\u001b[0mid\u001b[0m\u001b[0;34m=\u001b[0m\u001b[0;34m\"me\"\u001b[0m\u001b[0;34m,\u001b[0m\u001b[0mconnection_name\u001b[0m\u001b[0;34m=\u001b[0m\u001b[0;34m\"conversations\"\u001b[0m\u001b[0;34m)\u001b[0m\u001b[0;34m\u001b[0m\u001b[0m\n\u001b[0m",
      "\u001b[0;32m/usr/local/lib/python2.7/dist-packages/facebook/__init__.pyc\u001b[0m in \u001b[0;36mget_connections\u001b[0;34m(self, id, connection_name, **args)\u001b[0m\n\u001b[1;32m    117\u001b[0m         \u001b[0;34m\"\"\"Fetches the connections for given object.\"\"\"\u001b[0m\u001b[0;34m\u001b[0m\u001b[0m\n\u001b[1;32m    118\u001b[0m         return self.request(\n\u001b[0;32m--> 119\u001b[0;31m             \"%s/%s/%s\" % (self.version, id, connection_name), args)\n\u001b[0m\u001b[1;32m    120\u001b[0m \u001b[0;34m\u001b[0m\u001b[0m\n\u001b[1;32m    121\u001b[0m     \u001b[0;32mdef\u001b[0m \u001b[0mput_object\u001b[0m\u001b[0;34m(\u001b[0m\u001b[0mself\u001b[0m\u001b[0;34m,\u001b[0m \u001b[0mparent_object\u001b[0m\u001b[0;34m,\u001b[0m \u001b[0mconnection_name\u001b[0m\u001b[0;34m,\u001b[0m \u001b[0;34m**\u001b[0m\u001b[0mdata\u001b[0m\u001b[0;34m)\u001b[0m\u001b[0;34m:\u001b[0m\u001b[0;34m\u001b[0m\u001b[0m\n",
      "\u001b[0;32m/usr/local/lib/python2.7/dist-packages/facebook/__init__.pyc\u001b[0m in \u001b[0;36mrequest\u001b[0;34m(self, path, args, post_args, files, method)\u001b[0m\n\u001b[1;32m    270\u001b[0m \u001b[0;34m\u001b[0m\u001b[0m\n\u001b[1;32m    271\u001b[0m         \u001b[0;32mif\u001b[0m \u001b[0mresult\u001b[0m \u001b[0;32mand\u001b[0m \u001b[0misinstance\u001b[0m\u001b[0;34m(\u001b[0m\u001b[0mresult\u001b[0m\u001b[0;34m,\u001b[0m \u001b[0mdict\u001b[0m\u001b[0;34m)\u001b[0m \u001b[0;32mand\u001b[0m \u001b[0mresult\u001b[0m\u001b[0;34m.\u001b[0m\u001b[0mget\u001b[0m\u001b[0;34m(\u001b[0m\u001b[0;34m\"error\"\u001b[0m\u001b[0;34m)\u001b[0m\u001b[0;34m:\u001b[0m\u001b[0;34m\u001b[0m\u001b[0m\n\u001b[0;32m--> 272\u001b[0;31m             \u001b[0;32mraise\u001b[0m \u001b[0mGraphAPIError\u001b[0m\u001b[0;34m(\u001b[0m\u001b[0mresult\u001b[0m\u001b[0;34m)\u001b[0m\u001b[0;34m\u001b[0m\u001b[0m\n\u001b[0m\u001b[1;32m    273\u001b[0m         \u001b[0;32mreturn\u001b[0m \u001b[0mresult\u001b[0m\u001b[0;34m\u001b[0m\u001b[0m\n\u001b[1;32m    274\u001b[0m \u001b[0;34m\u001b[0m\u001b[0m\n",
      "\u001b[0;31mGraphAPIError\u001b[0m: (#279) Requires read_page_mailboxes permission to manage the object"
     ]
    }
   ],
   "source": [
    "resp=graph.get_connections(id=\"me\",connection_name=\"conversations\")"
   ]
  },
  {
   "cell_type": "code",
   "execution_count": 17,
   "metadata": {},
   "outputs": [
    {
     "name": "stdout",
     "output_type": "stream",
     "text": [
      "{u'paging': {u'cursors': {u'after': u'MTAxNTQ3MzI2ODk3OTY1MjkZD', u'before': u'MTAxNTQ3MzI2ODk3OTY1MjkZD'}}, u'data': [{u'perms': [u'ADMINISTER', u'EDIT_PROFILE', u'CREATE_CONTENT', u'MODERATE_CONTENT', u'CREATE_ADS', u'BASIC_ADMIN'], u'role': u'Admin', u'name': u'Arjun Venkatraman', u'id': u'10154732689796529'}]}\n"
     ]
    }
   ],
   "source": [
    "print resp"
   ]
  },
  {
   "cell_type": "code",
   "execution_count": 18,
   "metadata": {},
   "outputs": [
    {
     "ename": "AttributeError",
     "evalue": "'GraphAPI' object has no attribute 'search'",
     "output_type": "error",
     "traceback": [
      "\u001b[0;31m---------------------------------------------------------------------------\u001b[0m",
      "\u001b[0;31mAttributeError\u001b[0m                            Traceback (most recent call last)",
      "\u001b[0;32m<ipython-input-18-c6c4740f714a>\u001b[0m in \u001b[0;36m<module>\u001b[0;34m()\u001b[0m\n\u001b[0;32m----> 1\u001b[0;31m \u001b[0mresp\u001b[0m\u001b[0;34m=\u001b[0m\u001b[0mgraph\u001b[0m\u001b[0;34m.\u001b[0m\u001b[0msearch\u001b[0m\u001b[0;34m(\u001b[0m\u001b[0mtype\u001b[0m\u001b[0;34m=\u001b[0m\u001b[0;34m\"page\"\u001b[0m\u001b[0;34m,\u001b[0m\u001b[0mq\u001b[0m\u001b[0;34m=\u001b[0m\u001b[0;34m\"Mojolab\"\u001b[0m\u001b[0;34m)\u001b[0m\u001b[0;34m\u001b[0m\u001b[0m\n\u001b[0m",
      "\u001b[0;31mAttributeError\u001b[0m: 'GraphAPI' object has no attribute 'search'"
     ]
    }
   ],
   "source": [
    "resp=graph.search(type=\"page\",q=\"Mojolab\")"
   ]
  },
  {
   "cell_type": "code",
   "execution_count": 19,
   "metadata": {
    "collapsed": true
   },
   "outputs": [],
   "source": [
    " resp=graph.request(\"/search?q=Taragi&type=user&limit=100\")"
   ]
  },
  {
   "cell_type": "code",
   "execution_count": 24,
   "metadata": {},
   "outputs": [],
   "source": [
    "uid= resp['data'][0]['id']"
   ]
  },
  {
   "cell_type": "code",
   "execution_count": 26,
   "metadata": {},
   "outputs": [
    {
     "data": {
      "text/plain": [
       "{u'id': u'1460035970778888'}"
      ]
     },
     "execution_count": 26,
     "metadata": {},
     "output_type": "execute_result"
    }
   ],
   "source": [
    "graph.request(\"/\"+uid+\"/friendlists\")"
   ]
  },
  {
   "cell_type": "code",
   "execution_count": null,
   "metadata": {
    "collapsed": true
   },
   "outputs": [],
   "source": []
  }
 ],
 "metadata": {
  "kernelspec": {
   "display_name": "Python 2",
   "language": "python",
   "name": "python2"
  },
  "language_info": {
   "codemirror_mode": {
    "name": "ipython",
    "version": 2
   },
   "file_extension": ".py",
   "mimetype": "text/x-python",
   "name": "python",
   "nbconvert_exporter": "python",
   "pygments_lexer": "ipython2",
   "version": "2.7.12"
  }
 },
 "nbformat": 4,
 "nbformat_minor": 2
}
